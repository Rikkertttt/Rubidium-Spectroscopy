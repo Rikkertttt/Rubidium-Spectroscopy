{
 "cells": [
  {
   "cell_type": "code",
   "execution_count": 448,
   "metadata": {},
   "outputs": [],
   "source": [
    "import pandas as pd\n",
    "import matplotlib.pyplot as plt\n",
    "import numpy as np\n",
    "from scipy.optimize import curve_fit\n",
    "import scipy.stats as stats\n",
    "from lmfit import models\n",
    "import math"
   ]
  },
  {
   "cell_type": "code",
   "execution_count": 449,
   "metadata": {},
   "outputs": [
    {
     "data": {
      "text/html": [
       "<div>\n",
       "<style scoped>\n",
       "    .dataframe tbody tr th:only-of-type {\n",
       "        vertical-align: middle;\n",
       "    }\n",
       "\n",
       "    .dataframe tbody tr th {\n",
       "        vertical-align: top;\n",
       "    }\n",
       "\n",
       "    .dataframe thead th {\n",
       "        text-align: right;\n",
       "    }\n",
       "</style>\n",
       "<table border=\"1\" class=\"dataframe\">\n",
       "  <thead>\n",
       "    <tr style=\"text-align: right;\">\n",
       "      <th></th>\n",
       "      <th>3</th>\n",
       "      <th>4</th>\n",
       "    </tr>\n",
       "  </thead>\n",
       "  <tbody>\n",
       "    <tr>\n",
       "      <th>0</th>\n",
       "      <td>0.02840</td>\n",
       "      <td>9.52</td>\n",
       "    </tr>\n",
       "    <tr>\n",
       "      <th>1</th>\n",
       "      <td>0.02844</td>\n",
       "      <td>9.52</td>\n",
       "    </tr>\n",
       "    <tr>\n",
       "      <th>2</th>\n",
       "      <td>0.02848</td>\n",
       "      <td>9.52</td>\n",
       "    </tr>\n",
       "    <tr>\n",
       "      <th>3</th>\n",
       "      <td>0.02852</td>\n",
       "      <td>9.52</td>\n",
       "    </tr>\n",
       "    <tr>\n",
       "      <th>4</th>\n",
       "      <td>0.02856</td>\n",
       "      <td>9.52</td>\n",
       "    </tr>\n",
       "    <tr>\n",
       "      <th>...</th>\n",
       "      <td>...</td>\n",
       "      <td>...</td>\n",
       "    </tr>\n",
       "    <tr>\n",
       "      <th>2495</th>\n",
       "      <td>0.12820</td>\n",
       "      <td>4.56</td>\n",
       "    </tr>\n",
       "    <tr>\n",
       "      <th>2496</th>\n",
       "      <td>0.12824</td>\n",
       "      <td>4.56</td>\n",
       "    </tr>\n",
       "    <tr>\n",
       "      <th>2497</th>\n",
       "      <td>0.12828</td>\n",
       "      <td>4.56</td>\n",
       "    </tr>\n",
       "    <tr>\n",
       "      <th>2498</th>\n",
       "      <td>0.12832</td>\n",
       "      <td>4.56</td>\n",
       "    </tr>\n",
       "    <tr>\n",
       "      <th>2499</th>\n",
       "      <td>0.12836</td>\n",
       "      <td>4.56</td>\n",
       "    </tr>\n",
       "  </tbody>\n",
       "</table>\n",
       "<p>2500 rows × 2 columns</p>\n",
       "</div>"
      ],
      "text/plain": [
       "            3     4\n",
       "0     0.02840  9.52\n",
       "1     0.02844  9.52\n",
       "2     0.02848  9.52\n",
       "3     0.02852  9.52\n",
       "4     0.02856  9.52\n",
       "...       ...   ...\n",
       "2495  0.12820  4.56\n",
       "2496  0.12824  4.56\n",
       "2497  0.12828  4.56\n",
       "2498  0.12832  4.56\n",
       "2499  0.12836  4.56\n",
       "\n",
       "[2500 rows x 2 columns]"
      ]
     },
     "execution_count": 449,
     "metadata": {},
     "output_type": "execute_result"
    }
   ],
   "source": [
    "df = pd.read_csv('Our_Data_Doppler_Broadened\\F0001CH2.CSV', header=None, usecols=[3,4])\n",
    "\n",
    "df"
   ]
  },
  {
   "cell_type": "code",
   "execution_count": 450,
   "metadata": {},
   "outputs": [
    {
     "data": {
      "text/plain": [
       "[<matplotlib.lines.Line2D at 0x2bee544ef70>]"
      ]
     },
     "execution_count": 450,
     "metadata": {},
     "output_type": "execute_result"
    },
    {
     "data": {
      "image/png": "[encoded data removed]",
      "text/plain": [
       "<Figure size 432x288 with 1 Axes>"
      ]
     },
     "metadata": {
      "needs_background": "light"
     },
     "output_type": "display_data"
    }
   ],
   "source": [
    "plt.plot(df[3], df[4])"
   ]
  },
  {
   "cell_type": "code",
   "execution_count": 451,
   "metadata": {},
   "outputs": [
    {
     "name": "stdout",
     "output_type": "stream",
     "text": [
      "parameter names: ['a', 'b', 'A_amplitude', 'A_center', 'A_sigma', 'B_amplitude', 'B_center', 'B_sigma']\n",
      "independent variables: ['x']\n"
     ]
    }
   ],
   "source": [
    "# Fit functions\n",
    "\n",
    "def LinFunc(x, a, b):\n",
    "    y = a*x+b\n",
    "    return y\n",
    "\n",
    "Lin_model = models.Model(LinFunc)\n",
    "gauss_model_1 = models.GaussianModel(prefix=\"A_\")\n",
    "gauss_model_2 = models.GaussianModel(prefix=\"B_\")\n",
    "\n",
    "tot_model = Lin_model + gauss_model_1 + gauss_model_2\n",
    "\n",
    "print(f'parameter names: {tot_model.param_names}')\n",
    "print(f'independent variables: {tot_model.independent_vars}')"
   ]
  },
  {
   "cell_type": "code",
   "execution_count": 452,
   "metadata": {},
   "outputs": [],
   "source": [
    "#Calculate some params\n",
    "\n",
    "a = (df[4][0]-df[4][len(df[4])-1])/(df[3][0]-df[3][len(df[3])-1])\n",
    "\n",
    "b = 2.5"
   ]
  },
  {
   "cell_type": "code",
   "execution_count": 453,
   "metadata": {},
   "outputs": [
    {
     "name": "stdout",
     "output_type": "stream",
     "text": [
      "[[Model]]\n",
      "    Model(LinFunc)\n",
      "[[Fit Statistics]]\n",
      "    # fitting method   = leastsq\n",
      "    # function evals   = 7\n",
      "    # data points      = 2500\n",
      "    # variables        = 2\n",
      "    chi-square         = 324.478093\n",
      "    reduced chi-square = 0.12989515\n",
      "    Akaike info crit   = -5100.56997\n",
      "    Bayesian info crit = -5088.92188\n",
      "    R-squared          = 0.93544418\n",
      "[[Variables]]\n",
      "    a: -47.5066682 +/- 0.24969919 (0.53%) (init = -49.61985)\n",
      "    b:  10.4981327 +/- 0.02085662 (0.20%) (init = 2.5)\n",
      "[[Correlations]] (unreported correlations are < 0.100)\n",
      "    C(a, b) = -0.938\n"
     ]
    },
    {
     "data": {
      "text/plain": [
       "<matplotlib.legend.Legend at 0x2bee3cbac10>"
      ]
     },
     "execution_count": 453,
     "metadata": {},
     "output_type": "execute_result"
    },
    {
     "data": {
      "image/png": "[encoded data removed]",
      "text/plain": [
       "<Figure size 432x288 with 1 Axes>"
      ]
     },
     "metadata": {
      "needs_background": "light"
     },
     "output_type": "display_data"
    }
   ],
   "source": [
    "lin_fit = Lin_model.fit(df[4], x=df[3], a=a, b=b)\n",
    "\n",
    "print(lin_fit.fit_report())\n",
    "\n",
    "\n",
    "plt.plot(df[3], df[4], label='data')\n",
    "plt.plot(df[3], lin_fit.init_fit, '--', label='initial fit')\n",
    "plt.plot(df[3], lin_fit.best_fit, '-', label='best fit')\n",
    "plt.legend()"
   ]
  },
  {
   "cell_type": "code",
   "execution_count": 454,
   "metadata": {},
   "outputs": [
    {
     "name": "stdout",
     "output_type": "stream",
     "text": [
      "[[Model]]\n",
      "    ((Model(LinFunc) + Model(gaussian, prefix='A_')) + Model(gaussian, prefix='B_'))\n",
      "[[Fit Statistics]]\n",
      "    # fitting method   = leastsq\n",
      "    # function evals   = 119\n",
      "    # data points      = 2500\n",
      "    # variables        = 8\n",
      "    chi-square         = 14.9943439\n",
      "    reduced chi-square = 0.00601699\n",
      "    Akaike info crit   = -12774.9324\n",
      "    Bayesian info crit = -12728.3400\n",
      "    R-squared          = 0.99701683\n",
      "[[Variables]]\n",
      "    a:           -50.0561264 +/- 0.06148425 (0.12%) (init = -49.61985)\n",
      "    b:            10.8159176 +/- 0.00506299 (0.05%) (init = 2.5)\n",
      "    A_amplitude: -0.01010544 +/- 5.7456e-05 (0.57%) (init = -0.6)\n",
      "    A_center:     0.05216883 +/- 1.2117e-05 (0.02%) (init = 0.05)\n",
      "    A_sigma:      0.00206285 +/- 1.2607e-05 (0.61%) (init = 1.8227e-05)\n",
      "    B_amplitude: -0.00169041 +/- 6.3597e-05 (3.76%) (init = -0.2)\n",
      "    B_center:     0.10939061 +/- 8.6392e-05 (0.08%) (init = 0.11)\n",
      "    B_sigma:      0.00231938 +/- 9.1389e-05 (3.94%) (init = 1.8227e-05)\n",
      "    A_fwhm:       0.00485765 +/- 2.9686e-05 (0.61%) == '2.3548200*A_sigma'\n",
      "    A_height:    -1.95432576 +/- 0.01007406 (0.52%) == '0.3989423*A_amplitude/max(1e-15, A_sigma)'\n",
      "    B_fwhm:       0.00546172 +/- 2.1520e-04 (3.94%) == '2.3548200*B_sigma'\n",
      "    B_height:    -0.29075631 +/- 0.00955863 (3.29%) == '0.3989423*B_amplitude/max(1e-15, B_sigma)'\n",
      "[[Correlations]] (unreported correlations are < 0.100)\n",
      "    C(a, b)                 = -0.937\n",
      "    C(B_amplitude, B_sigma) = -0.637\n",
      "    C(A_amplitude, A_sigma) = -0.620\n",
      "    C(b, A_amplitude)       = -0.393\n",
      "    C(a, B_amplitude)       = -0.385\n",
      "    C(a, A_amplitude)       = 0.293\n",
      "    C(a, B_sigma)           = 0.245\n",
      "    C(b, A_sigma)           = 0.244\n",
      "    C(b, B_amplitude)       = 0.240\n",
      "    C(a, A_sigma)           = -0.182\n",
      "    C(b, B_sigma)           = -0.153\n"
     ]
    },
    {
     "data": {
      "text/plain": [
       "<matplotlib.legend.Legend at 0x2bee26ff6a0>"
      ]
     },
     "execution_count": 454,
     "metadata": {},
     "output_type": "execute_result"
    },
    {
     "data": {
      "image/png": "[encoded data removed]",
      "text/plain": [
       "<Figure size 432x288 with 1 Axes>"
      ]
     },
     "metadata": {
      "needs_background": "light"
     },
     "output_type": "display_data"
    }
   ],
   "source": [
    "# params = tot_model.make_params(a=a, b=b, amp1=-1, cen1=0.062, wid1=0.005, amp2=-0.3, cen2=0.14, wid2=0.005)\n",
    "result = tot_model.fit(df[4], x=df[3], a=a, b=b, A_amplitude=-0.6, A_center=0.05, A_sigma=1.8227e-05, B_amplitude=-0.2, B_center=0.11, B_sigma=1.8227e-05)\n",
    "\n",
    "\n",
    "\n",
    "print(result.fit_report())\n",
    "\n",
    "plt.plot(df[3], df[4], label='data')\n",
    "#plt.plot(df[9], result.init_fit, '--', label='initial fit')\n",
    "plt.plot(df[3], result.best_fit, '-', label='best fit')\n",
    "plt.legend()"
   ]
  },
  {
   "cell_type": "code",
   "execution_count": 455,
   "metadata": {},
   "outputs": [],
   "source": [
    "center_1=result.params.get(\"A_center\").value\n",
    "center_2=result.params.get(\"B_center\").value\n",
    "sigma_1=result.params.get(\"A_sigma\").value\n",
    "sigma_2=result.params.get(\"B_sigma\").value"
   ]
  },
  {
   "cell_type": "code",
   "execution_count": 456,
   "metadata": {},
   "outputs": [],
   "source": [
    "delta_t = result.params.get(\"B_center\").value-result.params.get(\"A_center\").value\n",
    "delta_f = 6834.7e6\n",
    "\n",
    "const = delta_f/delta_t\n",
    "\n",
    "df[\"freq\"]=const * df[3]"
   ]
  },
  {
   "cell_type": "code",
   "execution_count": 457,
   "metadata": {},
   "outputs": [
    {
     "data": {
      "text/plain": [
       "[<matplotlib.lines.Line2D at 0x2bee64731f0>]"
      ]
     },
     "execution_count": 457,
     "metadata": {},
     "output_type": "execute_result"
    },
    {
     "data": {
      "image/png": "[encoded data removed]",
      "text/plain": [
       "<Figure size 432x288 with 1 Axes>"
      ]
     },
     "metadata": {
      "needs_background": "light"
     },
     "output_type": "display_data"
    }
   ],
   "source": [
    "plt.plot(df[\"freq\"], df[4])"
   ]
  },
  {
   "cell_type": "code",
   "execution_count": 458,
   "metadata": {},
   "outputs": [],
   "source": [
    "c=-4.1908e-10\n",
    "d=10"
   ]
  },
  {
   "cell_type": "code",
   "execution_count": 459,
   "metadata": {},
   "outputs": [
    {
     "name": "stdout",
     "output_type": "stream",
     "text": [
      "[[Model]]\n",
      "    ((Model(LinFunc) + Model(gaussian, prefix='A_')) + Model(gaussian, prefix='B_'))\n",
      "[[Fit Statistics]]\n",
      "    # fitting method   = leastsq\n",
      "    # function evals   = 199\n",
      "    # data points      = 2500\n",
      "    # variables        = 8\n",
      "    chi-square         = 14.9943439\n",
      "    reduced chi-square = 0.00601699\n",
      "    Akaike info crit   = -12774.9324\n",
      "    Bayesian info crit = -12728.3400\n",
      "    R-squared          = 0.99701683\n",
      "[[Variables]]\n",
      "    a:           -4.1908e-10 +/- 5.1475e-13 (0.12%) (init = 1000)\n",
      "    b:            10.8159166 +/- 0.00506293 (0.05%) (init = 10)\n",
      "    A_amplitude: -1.2070e+09 +/- 6862696.72 (0.57%) (init = -2)\n",
      "    A_center:     6.2312e+09 +/- 1447286.83 (0.02%) (init = 6.231163e+09)\n",
      "    A_sigma:      2.4639e+08 +/- 1505754.69 (0.61%) (init = 2.463918e+08)\n",
      "    B_amplitude: -2.0191e+08 +/- 7594847.01 (3.76%) (init = -2)\n",
      "    B_center:     1.3066e+10 +/- 10316613.7 (0.08%) (init = 1.306586e+10)\n",
      "    B_sigma:      2.7704e+08 +/- 10914090.2 (3.94%) (init = 2.770321e+08)\n",
      "    A_fwhm:       5.8021e+08 +/- 3545781.26 (0.61%) == '2.3548200*A_sigma'\n",
      "    A_height:    -1.95432574 +/- 0.01007405 (0.52%) == '0.3989423*A_amplitude/max(1e-15, A_sigma)'\n",
      "    B_fwhm:       6.5239e+08 +/- 25700717.9 (3.94%) == '2.3548200*B_sigma'\n",
      "    B_height:    -0.29075133 +/- 0.00955685 (3.29%) == '0.3989423*B_amplitude/max(1e-15, B_sigma)'\n",
      "[[Correlations]] (unreported correlations are < 0.100)\n",
      "    C(a, b)                 = -0.937\n",
      "    C(B_amplitude, B_sigma) = -0.637\n",
      "    C(A_amplitude, A_sigma) = -0.620\n",
      "    C(b, A_amplitude)       = -0.393\n",
      "    C(a, B_amplitude)       = -0.385\n",
      "    C(a, A_amplitude)       = 0.293\n",
      "    C(a, B_sigma)           = 0.245\n",
      "    C(b, A_sigma)           = 0.244\n",
      "    C(b, B_amplitude)       = 0.240\n",
      "    C(a, A_sigma)           = -0.182\n",
      "    C(b, B_sigma)           = -0.153\n"
     ]
    },
    {
     "data": {
      "text/plain": [
       "<matplotlib.legend.Legend at 0x2bee64c4c70>"
      ]
     },
     "execution_count": 459,
     "metadata": {},
     "output_type": "execute_result"
    },
    {
     "data": {
      "image/png": "[encoded data removed]",
      "text/plain": [
       "<Figure size 432x288 with 1 Axes>"
      ]
     },
     "metadata": {
      "needs_background": "light"
     },
     "output_type": "display_data"
    }
   ],
   "source": [
    "result_freq = tot_model.fit(df[4], x=df['freq'], a=1000, b=d, A_amplitude=-2, A_center=center_1*const, A_sigma=sigma_1*const, B_amplitude=-2, B_center=center_2*const, B_sigma=sigma_2*const)\n",
    "\n",
    "\n",
    "\n",
    "print(result_freq.fit_report())\n",
    "\n",
    "plt.plot(df['freq'], df[4], label='data')\n",
    "#plt.plot(df['freq'], result_freq.init_fit, '--', label='initial fit')\n",
    "plt.plot(df[\"freq\"], result_freq.best_fit, '-', label='best fit')\n",
    "plt.legend()"
   ]
  },
  {
   "cell_type": "code",
   "execution_count": 460,
   "metadata": {},
   "outputs": [
    {
     "name": "stdout",
     "output_type": "stream",
     "text": [
      "387.4969352071695\n",
      "489.90786539221466\n"
     ]
    }
   ],
   "source": [
    "# proof of concept\n",
    "\n",
    "k = 1.38e-23 # bolzmann constant\n",
    "m = 86.909184 * 1.66053907e-27 # mass of rubidium\n",
    "c = 3e8 # speed of light\n",
    "f_0 = 384e12 # rest freq\n",
    "sigma1=result_freq.params.get(\"A_sigma\").value\n",
    "sigma2=result_freq.params.get(\"B_sigma\").value\n",
    "\n",
    "T1 = (sigma1**2*m*c**2)/(k*f_0**2)\n",
    "T2 = (sigma2**2*m*c**2)/(k*f_0**2)\n",
    "\n",
    "print(T1)\n",
    "print(T2)\n"
   ]
  }
 ],
 "metadata": {
  "kernelspec": {
   "display_name": "base",
   "language": "python",
   "name": "python3"
  },
  "language_info": {
   "codemirror_mode": {
    "name": "ipython",
    "version": 3
   },
   "file_extension": ".py",
   "mimetype": "text/x-python",
   "name": "python",
   "nbconvert_exporter": "python",
   "pygments_lexer": "ipython3",
   "version": "3.9.12"
  }
 },
 "nbformat": 4,
 "nbformat_minor": 2
}
