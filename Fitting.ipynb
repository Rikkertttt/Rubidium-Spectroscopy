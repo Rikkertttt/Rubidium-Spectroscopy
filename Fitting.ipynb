{
 "cells": [
  {
   "cell_type": "code",
   "execution_count": 152,
   "metadata": {},
   "outputs": [],
   "source": [
    "import pandas as pd\n",
    "import matplotlib.pyplot as plt\n",
    "import numpy as np\n",
    "from scipy.optimize import curve_fit\n",
    "import scipy.stats as stats\n",
    "from lmfit import Model\n",
    "import math"
   ]
  },
  {
   "cell_type": "code",
   "execution_count": 153,
   "metadata": {},
   "outputs": [
    {
     "data": {
      "text/html": [
       "<div>\n",
       "<style scoped>\n",
       "    .dataframe tbody tr th:only-of-type {\n",
       "        vertical-align: middle;\n",
       "    }\n",
       "\n",
       "    .dataframe tbody tr th {\n",
       "        vertical-align: top;\n",
       "    }\n",
       "\n",
       "    .dataframe thead th {\n",
       "        text-align: right;\n",
       "    }\n",
       "</style>\n",
       "<table border=\"1\" class=\"dataframe\">\n",
       "  <thead>\n",
       "    <tr style=\"text-align: right;\">\n",
       "      <th></th>\n",
       "      <th>9</th>\n",
       "      <th>10</th>\n",
       "    </tr>\n",
       "  </thead>\n",
       "  <tbody>\n",
       "    <tr>\n",
       "      <th>0</th>\n",
       "      <td>0.05160</td>\n",
       "      <td>2.42</td>\n",
       "    </tr>\n",
       "    <tr>\n",
       "      <th>1</th>\n",
       "      <td>0.05164</td>\n",
       "      <td>2.42</td>\n",
       "    </tr>\n",
       "    <tr>\n",
       "      <th>2</th>\n",
       "      <td>0.05168</td>\n",
       "      <td>2.40</td>\n",
       "    </tr>\n",
       "    <tr>\n",
       "      <th>3</th>\n",
       "      <td>0.05172</td>\n",
       "      <td>2.40</td>\n",
       "    </tr>\n",
       "    <tr>\n",
       "      <th>4</th>\n",
       "      <td>0.05176</td>\n",
       "      <td>2.40</td>\n",
       "    </tr>\n",
       "    <tr>\n",
       "      <th>...</th>\n",
       "      <td>...</td>\n",
       "      <td>...</td>\n",
       "    </tr>\n",
       "    <tr>\n",
       "      <th>2495</th>\n",
       "      <td>0.15140</td>\n",
       "      <td>1.64</td>\n",
       "    </tr>\n",
       "    <tr>\n",
       "      <th>2496</th>\n",
       "      <td>0.15144</td>\n",
       "      <td>1.66</td>\n",
       "    </tr>\n",
       "    <tr>\n",
       "      <th>2497</th>\n",
       "      <td>0.15148</td>\n",
       "      <td>1.64</td>\n",
       "    </tr>\n",
       "    <tr>\n",
       "      <th>2498</th>\n",
       "      <td>0.15152</td>\n",
       "      <td>1.64</td>\n",
       "    </tr>\n",
       "    <tr>\n",
       "      <th>2499</th>\n",
       "      <td>0.15156</td>\n",
       "      <td>1.66</td>\n",
       "    </tr>\n",
       "  </tbody>\n",
       "</table>\n",
       "<p>2500 rows × 2 columns</p>\n",
       "</div>"
      ],
      "text/plain": [
       "           9     10\n",
       "0     0.05160  2.42\n",
       "1     0.05164  2.42\n",
       "2     0.05168  2.40\n",
       "3     0.05172  2.40\n",
       "4     0.05176  2.40\n",
       "...       ...   ...\n",
       "2495  0.15140  1.64\n",
       "2496  0.15144  1.66\n",
       "2497  0.15148  1.64\n",
       "2498  0.15152  1.64\n",
       "2499  0.15156  1.66\n",
       "\n",
       "[2500 rows x 2 columns]"
      ]
     },
     "execution_count": 153,
     "metadata": {},
     "output_type": "execute_result"
    }
   ],
   "source": [
    "specific_rows = [9,10]\n",
    "\n",
    "df = pd.read_csv('first_results.csv', header=None, usecols=[9,10])\n",
    "\n",
    "df"
   ]
  },
  {
   "cell_type": "code",
   "execution_count": 154,
   "metadata": {},
   "outputs": [
    {
     "data": {
      "text/plain": [
       "[<matplotlib.lines.Line2D at 0x19b440a8af0>]"
      ]
     },
     "execution_count": 154,
     "metadata": {},
     "output_type": "execute_result"
    },
    {
     "data": {
      "image/png": "[encoded data removed]",
      "text/plain": [
       "<Figure size 432x288 with 1 Axes>"
      ]
     },
     "metadata": {
      "needs_background": "light"
     },
     "output_type": "display_data"
    }
   ],
   "source": [
    "plt.plot(df[9], df[10])"
   ]
  },
  {
   "cell_type": "code",
   "execution_count": 155,
   "metadata": {},
   "outputs": [
    {
     "name": "stdout",
     "output_type": "stream",
     "text": [
      "parameter names: ['a', 'b', 'amp1', 'cen1', 'sigma1', 'amp2', 'cen2', 'sigma2']\n",
      "independent variables: ['x']\n"
     ]
    }
   ],
   "source": [
    "# Fit functions\n",
    "\n",
    "def LinFunc(x, a, b):\n",
    "    y = a*x+b\n",
    "    return y\n",
    "    \n",
    "def gaussian1(x, amp1, cen1, sigma1):\n",
    "    return amp1 * np.exp(-(x-cen1)**2 / (2*sigma1**2))\n",
    "                                                \n",
    "def gaussian2(x, amp2, cen2, sigma2):\n",
    "    return amp2 * np.exp(-(x-cen2)**2 / (2*sigma2**2))\n",
    "    \n",
    "\n",
    "Lin_model = Model(LinFunc)\n",
    "gauss_model_1 = Model(gaussian1)\n",
    "gauss_model_2 = Model(gaussian2)\n",
    "\n",
    "tot_model = Lin_model + gauss_model_1 + gauss_model_2\n",
    "\n",
    "print(f'parameter names: {tot_model.param_names}')\n",
    "print(f'independent variables: {tot_model.independent_vars}')\n",
    "\n",
    "\n",
    "\n"
   ]
  },
  {
   "cell_type": "code",
   "execution_count": 156,
   "metadata": {},
   "outputs": [],
   "source": [
    "#Calculate some params\n",
    "\n",
    "a = (df[10][0]-df[10][len(df[10])-1])/(df[9][0]-df[9][len(df[10])-1])\n",
    "\n",
    "b = 2.5"
   ]
  },
  {
   "cell_type": "code",
   "execution_count": 157,
   "metadata": {},
   "outputs": [
    {
     "name": "stdout",
     "output_type": "stream",
     "text": [
      "[[Model]]\n",
      "    Model(LinFunc)\n",
      "[[Fit Statistics]]\n",
      "    # fitting method   = leastsq\n",
      "    # function evals   = 7\n",
      "    # data points      = 2500\n",
      "    # variables        = 2\n",
      "    chi-square         = 44.6296587\n",
      "    reduced chi-square = 0.01786616\n",
      "    Akaike info crit   = -10060.1184\n",
      "    Bayesian info crit = -10048.4704\n",
      "    R-squared          = 0.61622098\n",
      "[[Variables]]\n",
      "    a: -5.86489273 +/- 0.09260538 (1.58%) (init = -7.60304)\n",
      "    b:  2.53775574 +/- 0.00977933 (0.39%) (init = 2.5)\n",
      "[[Correlations]] (unreported correlations are < 0.100)\n",
      "    C(a, b) = -0.962\n"
     ]
    },
    {
     "data": {
      "text/plain": [
       "<matplotlib.legend.Legend at 0x19b44110d30>"
      ]
     },
     "execution_count": 157,
     "metadata": {},
     "output_type": "execute_result"
    },
    {
     "data": {
      "image/png": "[encoded data removed]",
      "text/plain": [
       "<Figure size 432x288 with 1 Axes>"
      ]
     },
     "metadata": {
      "needs_background": "light"
     },
     "output_type": "display_data"
    }
   ],
   "source": [
    "lin_fit = Lin_model.fit(df[10], x=df[9], a=a, b=b)\n",
    "\n",
    "print(lin_fit.fit_report())\n",
    "\n",
    "\n",
    "plt.plot(df[9], df[10], label='data')\n",
    "plt.plot(df[9], lin_fit.init_fit, '--', label='initial fit')\n",
    "plt.plot(df[9], lin_fit.best_fit, '-', label='best fit')\n",
    "plt.legend()"
   ]
  },
  {
   "cell_type": "code",
   "execution_count": 158,
   "metadata": {},
   "outputs": [
    {
     "name": "stdout",
     "output_type": "stream",
     "text": [
      "[[Model]]\n",
      "    ((Model(LinFunc) + Model(gaussian1)) + Model(gaussian2))\n",
      "[[Fit Statistics]]\n",
      "    # fitting method   = leastsq\n",
      "    # function evals   = 136\n",
      "    # data points      = 2500\n",
      "    # variables        = 8\n",
      "    chi-square         = 0.49167130\n",
      "    reduced chi-square = 1.9730e-04\n",
      "    Akaike info crit   = -21318.9772\n",
      "    Bayesian info crit = -21272.3849\n",
      "    R-squared          = 0.99577202\n",
      "[[Variables]]\n",
      "    a:      -7.62551050 +/- 0.01437257 (0.19%) (init = -7.60304)\n",
      "    b:       2.77408341 +/- 0.00150255 (0.05%) (init = 2.5)\n",
      "    amp1:   -0.66110899 +/- 0.00157700 (0.24%) (init = -0.6)\n",
      "    cen1:    0.06388103 +/- 7.7414e-06 (0.01%) (init = 0.062)\n",
      "    sigma1:  0.00292770 +/- 8.7032e-06 (0.30%) (init = 1.8227e-05)\n",
      "    amp2:   -0.13599356 +/- 0.00166171 (1.22%) (init = -0.2)\n",
      "    cen2:    0.14192486 +/- 3.5655e-05 (0.03%) (init = 0.14)\n",
      "    sigma2:  0.00263118 +/- 3.9947e-05 (1.52%) (init = 1.8227e-05)\n",
      "[[Correlations]] (unreported correlations are < 0.100)\n",
      "    C(a, b)         = -0.975\n",
      "    C(b, sigma1)    = 0.437\n",
      "    C(a, sigma1)    = -0.393\n",
      "    C(a, sigma2)    = 0.392\n",
      "    C(amp2, sigma2) = 0.364\n",
      "    C(amp1, sigma1) = 0.358\n",
      "    C(b, sigma2)    = -0.331\n",
      "    C(b, amp1)      = -0.273\n",
      "    C(a, amp2)      = -0.246\n",
      "    C(a, amp1)      = 0.245\n",
      "    C(b, amp2)      = 0.208\n"
     ]
    },
    {
     "data": {
      "text/plain": [
       "<matplotlib.legend.Legend at 0x19b4417ef40>"
      ]
     },
     "execution_count": 158,
     "metadata": {},
     "output_type": "execute_result"
    },
    {
     "data": {
      "image/png": "[encoded data removed]",
      "text/plain": [
       "<Figure size 432x288 with 1 Axes>"
      ]
     },
     "metadata": {
      "needs_background": "light"
     },
     "output_type": "display_data"
    }
   ],
   "source": [
    "# params = tot_model.make_params(a=a, b=b, amp1=-1, cen1=0.062, wid1=0.005, amp2=-0.3, cen2=0.14, wid2=0.005)\n",
    "result = tot_model.fit(df[10], x=df[9], a=a, b=b, amp1=-0.6, cen1=0.062, sigma1=1.8227e-05, amp2=-0.2, cen2=0.14, sigma2=1.8227e-05)\n",
    "\n",
    "\n",
    "\n",
    "print(result.fit_report())\n",
    "\n",
    "plt.plot(df[9], df[10], label='data')\n",
    "#plt.plot(df[9], result.init_fit, '--', label='initial fit')\n",
    "plt.plot(df[9], result.best_fit, '-', label='best fit')\n",
    "plt.legend()"
   ]
  },
  {
   "cell_type": "code",
   "execution_count": 159,
   "metadata": {},
   "outputs": [
    {
     "name": "stdout",
     "output_type": "stream",
     "text": [
      "2.1008780091286435e-11\n",
      "1.6968680979483774e-11\n"
     ]
    }
   ],
   "source": [
    "# proof of concept\n",
    "\n",
    "k = 1.38e-23 # bolzmann constant\n",
    "m = 86.909184 * 1.66053907e-27 # mass of rubidium\n",
    "c = 3e5 # speed of light\n",
    "f_0 = 384e12 # rest freq\n",
    "sigma1=result.params.get(\"sigma1\").value\n",
    "sigma2=result.params.get(\"sigma2\").value\n",
    "\n",
    "T1 = (sigma1**2*m*c**2)/(k*f_0)\n",
    "T2 = (sigma2**2*m*c**2)/(k*f_0)\n",
    "\n",
    "print(T1)\n",
    "print(T2)\n"
   ]
  }
 ],
 "metadata": {
  "kernelspec": {
   "display_name": "base",
   "language": "python",
   "name": "python3"
  },
  "language_info": {
   "codemirror_mode": {
    "name": "ipython",
    "version": 3
   },
   "file_extension": ".py",
   "mimetype": "text/x-python",
   "name": "python",
   "nbconvert_exporter": "python",
   "pygments_lexer": "ipython3",
   "version": "3.9.12"
  }
 },
 "nbformat": 4,
 "nbformat_minor": 2
}
