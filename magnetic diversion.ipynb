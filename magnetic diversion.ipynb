{
 "cells": [
  {
   "cell_type": "code",
   "execution_count": 47,
   "metadata": {},
   "outputs": [],
   "source": [
    "import pandas as pd\n",
    "import matplotlib.pyplot as plt\n",
    "import numpy as np\n",
    "from scipy.optimize import curve_fit\n",
    "import scipy.stats as stats\n",
    "from lmfit import models\n",
    "from scipy.signal import find_peaks\n",
    "from itertools import combinations"
   ]
  },
  {
   "cell_type": "code",
   "execution_count": 48,
   "metadata": {},
   "outputs": [
    {
     "data": {
      "text/html": [
       "<div>\n",
       "<style scoped>\n",
       "    .dataframe tbody tr th:only-of-type {\n",
       "        vertical-align: middle;\n",
       "    }\n",
       "\n",
       "    .dataframe tbody tr th {\n",
       "        vertical-align: top;\n",
       "    }\n",
       "\n",
       "    .dataframe thead th {\n",
       "        text-align: right;\n",
       "    }\n",
       "</style>\n",
       "<table border=\"1\" class=\"dataframe\">\n",
       "  <thead>\n",
       "    <tr style=\"text-align: right;\">\n",
       "      <th></th>\n",
       "      <th>3</th>\n",
       "      <th>4</th>\n",
       "    </tr>\n",
       "  </thead>\n",
       "  <tbody>\n",
       "    <tr>\n",
       "      <th>0</th>\n",
       "      <td>0.13380</td>\n",
       "      <td>0.0272</td>\n",
       "    </tr>\n",
       "    <tr>\n",
       "      <th>1</th>\n",
       "      <td>0.13381</td>\n",
       "      <td>0.0280</td>\n",
       "    </tr>\n",
       "    <tr>\n",
       "      <th>2</th>\n",
       "      <td>0.13382</td>\n",
       "      <td>0.0280</td>\n",
       "    </tr>\n",
       "    <tr>\n",
       "      <th>3</th>\n",
       "      <td>0.13383</td>\n",
       "      <td>0.0272</td>\n",
       "    </tr>\n",
       "    <tr>\n",
       "      <th>4</th>\n",
       "      <td>0.13384</td>\n",
       "      <td>0.0280</td>\n",
       "    </tr>\n",
       "    <tr>\n",
       "      <th>...</th>\n",
       "      <td>...</td>\n",
       "      <td>...</td>\n",
       "    </tr>\n",
       "    <tr>\n",
       "      <th>2495</th>\n",
       "      <td>0.15875</td>\n",
       "      <td>0.0312</td>\n",
       "    </tr>\n",
       "    <tr>\n",
       "      <th>2496</th>\n",
       "      <td>0.15876</td>\n",
       "      <td>0.0312</td>\n",
       "    </tr>\n",
       "    <tr>\n",
       "      <th>2497</th>\n",
       "      <td>0.15877</td>\n",
       "      <td>0.0312</td>\n",
       "    </tr>\n",
       "    <tr>\n",
       "      <th>2498</th>\n",
       "      <td>0.15878</td>\n",
       "      <td>0.0312</td>\n",
       "    </tr>\n",
       "    <tr>\n",
       "      <th>2499</th>\n",
       "      <td>0.15879</td>\n",
       "      <td>0.0312</td>\n",
       "    </tr>\n",
       "  </tbody>\n",
       "</table>\n",
       "<p>2500 rows × 2 columns</p>\n",
       "</div>"
      ],
      "text/plain": [
       "            3       4\n",
       "0     0.13380  0.0272\n",
       "1     0.13381  0.0280\n",
       "2     0.13382  0.0280\n",
       "3     0.13383  0.0272\n",
       "4     0.13384  0.0280\n",
       "...       ...     ...\n",
       "2495  0.15875  0.0312\n",
       "2496  0.15876  0.0312\n",
       "2497  0.15877  0.0312\n",
       "2498  0.15878  0.0312\n",
       "2499  0.15879  0.0312\n",
       "\n",
       "[2500 rows x 2 columns]"
      ]
     },
     "execution_count": 48,
     "metadata": {},
     "output_type": "execute_result"
    }
   ],
   "source": [
    "df_convert = pd.read_csv(\"Magnetic_field_data/ALL0000/F0000CH4.CSV\", header=None, usecols=[3,4])\n",
    "\n",
    "df01= pd.read_csv(\"Magnetic_field_data/ALL0001/F0001CH2.CSV\", header=None, usecols=[3,4])\n",
    "df02= pd.read_csv(\"Magnetic_field_data/ALL0001/F0001CH3.CSV\", header=None, usecols=[3,4])\n",
    "\n",
    "df11 = pd.read_csv(\"Magnetic_field_data/ALL0002/F0002CH3.CSV\", header=None, usecols=[3,4])\n",
    "df12 = pd.read_csv(\"Magnetic_field_data/ALL0002/F0002CH4.CSV\", header=None, usecols=[3,4])\n",
    "\n",
    "df21= pd.read_csv(\"Magnetic_field_data/ALL0003/F0003CH3.CSV\", header=None, usecols=[3,4])\n",
    "df22 = pd.read_csv(\"Magnetic_field_data/ALL0003/F0003CH4.CSV\", header=None, usecols=[3,4])\n",
    "\n",
    "dd31 = pd.read_csv(\"Magnetic_field_data/ALL0004/F0004CH3.CSV\", header=None, usecols=[3,4])\n",
    "df32 = pd.read_csv(\"Magnetic_field_data/ALL0004/F0004CH4.CSV\", header=None, usecols=[3,4])\n",
    "\n",
    "df41 = pd.read_csv(\"Magnetic_field_data/ALL0005/F0005CH3.CSV\", header=None, usecols=[3,4])\n",
    "df42 = pd.read_csv(\"Magnetic_field_data/ALL0005/F0005CH4.CSV\", header=None, usecols=[3,4])\n",
    "\n",
    "df01\n",
    "\n"
   ]
  },
  {
   "cell_type": "code",
   "execution_count": 49,
   "metadata": {},
   "outputs": [
    {
     "name": "stdout",
     "output_type": "stream",
     "text": [
      "parameter names: ['a', 'b', 'A_amplitude', 'A_center', 'A_sigma', 'B_amplitude', 'B_center', 'B_sigma']\n",
      "independent variables: ['x']\n"
     ]
    }
   ],
   "source": [
    "#fit/find peak converting data\n",
    "def LinFunc(x, a, b):\n",
    "    y = a*x+b\n",
    "    return y\n",
    "\n",
    "Lin_model = models.Model(LinFunc)\n",
    "gm1 = models.GaussianModel(prefix=\"A_\")\n",
    "gm2= models.GaussianModel(prefix=\"B_\")\n",
    "\n",
    "tot_model = Lin_model + gm1 + gm2\n",
    "\n",
    "print(f'parameter names: {tot_model.param_names}')\n",
    "print(f'independent variables: {tot_model.independent_vars}')"
   ]
  },
  {
   "cell_type": "code",
   "execution_count": 50,
   "metadata": {},
   "outputs": [],
   "source": [
    "a = (df_convert[4][0]-df_convert[4][len(df_convert[4])-1])/(df_convert[3][0]-df_convert[3][len(df_convert[3])-1])\n",
    "\n",
    "b = 2.5"
   ]
  },
  {
   "cell_type": "code",
   "execution_count": 51,
   "metadata": {},
   "outputs": [
    {
     "name": "stdout",
     "output_type": "stream",
     "text": [
      "[[Model]]\n",
      "    ((Model(LinFunc) + Model(gaussian, prefix='A_')) + Model(gaussian, prefix='B_'))\n",
      "[[Fit Statistics]]\n",
      "    # fitting method   = leastsq\n",
      "    # function evals   = 354\n",
      "    # data points      = 2500\n",
      "    # variables        = 8\n",
      "    chi-square         = 3.58311215\n",
      "    reduced chi-square = 0.00143785\n",
      "    Akaike info crit   = -16353.5357\n",
      "    Bayesian info crit = -16306.9433\n",
      "    R-squared          = 0.76484669\n",
      "[[Variables]]\n",
      "    a:            2.99299304 +/- 0.06326995 (2.11%) (init = 0.6722689)\n",
      "    b:            0.08516020 +/- 0.00397143 (4.66%) (init = 2.5)\n",
      "    A_amplitude: -0.00746530 +/- 4.6917e-04 (6.28%) (init = 0.25)\n",
      "    A_center:     0.15048401 +/- 6.1417e-04 (0.41%) (init = 0.14)\n",
      "    A_sigma:      0.01970004 +/- 6.8872e-04 (3.50%) (init = 1.8227e-05)\n",
      "    B_amplitude: -0.06791124 +/- 0.00214939 (3.16%) (init = -0.1)\n",
      "    B_center:     0.23552046 +/- 4.0428e-04 (0.17%) (init = 0.22)\n",
      "    B_sigma:      0.04550042 +/- 8.2188e-04 (1.81%) (init = 1.8227e-05)\n",
      "    A_fwhm:       0.04639006 +/- 0.00162182 (3.50%) == '2.3548200*A_sigma'\n",
      "    A_height:    -0.15117861 +/- 0.00546785 (3.62%) == '0.3989423*A_amplitude/max(1e-15, A_sigma)'\n",
      "    B_fwhm:       0.10714530 +/- 0.00193538 (1.81%) == '2.3548200*B_sigma'\n",
      "    B_height:    -0.59543773 +/- 0.01135465 (1.91%) == '0.3989423*B_amplitude/max(1e-15, B_sigma)'\n",
      "[[Correlations]] (unreported correlations are < 0.100)\n",
      "    C(a, b)                  = -0.940\n",
      "    C(a, B_amplitude)        = -0.910\n",
      "    C(A_amplitude, A_sigma)  = -0.879\n",
      "    C(B_amplitude, B_sigma)  = -0.843\n",
      "    C(b, B_amplitude)        = 0.813\n",
      "    C(a, B_center)           = 0.723\n",
      "    C(A_center, B_sigma)     = -0.703\n",
      "    C(B_amplitude, B_center) = -0.668\n",
      "    C(b, B_center)           = -0.665\n",
      "    C(A_center, B_amplitude) = 0.589\n",
      "    C(a, B_sigma)            = 0.564\n",
      "    C(A_amplitude, B_sigma)  = 0.536\n",
      "    C(b, B_sigma)            = -0.497\n",
      "    C(A_amplitude, A_center) = -0.480\n",
      "    C(A_sigma, B_center)     = 0.439\n",
      "    C(B_center, B_sigma)     = 0.421\n",
      "    C(A_amplitude, B_center) = -0.387\n",
      "    C(A_center, A_sigma)     = 0.379\n",
      "    C(A_sigma, B_sigma)      = -0.367\n",
      "    C(a, A_center)           = -0.362\n",
      "    C(a, A_sigma)            = 0.308\n",
      "    C(a, A_amplitude)        = -0.286\n",
      "    C(b, A_center)           = 0.281\n",
      "    C(b, A_sigma)            = -0.231\n",
      "    C(b, A_amplitude)        = 0.224\n"
     ]
    },
    {
     "data": {
      "text/plain": [
       "<matplotlib.legend.Legend at 0x19e12e2a040>"
      ]
     },
     "execution_count": 51,
     "metadata": {},
     "output_type": "execute_result"
    },
    {
     "data": {
      "image/png": "[encoded data removed]",
      "text/plain": [
       "<Figure size 432x288 with 1 Axes>"
      ]
     },
     "metadata": {
      "needs_background": "light"
     },
     "output_type": "display_data"
    }
   ],
   "source": [
    "result = tot_model.fit(df_convert[4], x=df_convert[3], a=a, b=b, A_amplitude=0.25, A_center=0.14, A_sigma=1.8227e-05, B_amplitude=-0.1, B_center=0.22, B_sigma=1.8227e-05)\n",
    "\n",
    "\n",
    "\n",
    "print(result.fit_report())\n",
    "\n",
    "plt.plot(df_convert[3], df_convert[4], label='data')\n",
    "#plt.plot(df[9], result.init_fit, '--', label='initial fit')\n",
    "plt.plot(df_convert[3], result.best_fit, '-', label='best fit')\n",
    "plt.legend()"
   ]
  },
  {
   "cell_type": "code",
   "execution_count": 75,
   "metadata": {},
   "outputs": [
    {
     "data": {
      "image/png": "[encoded data removed]",
      "text/plain": [
       "<Figure size 432x288 with 1 Axes>"
      ]
     },
     "metadata": {
      "needs_background": "light"
     },
     "output_type": "display_data"
    }
   ],
   "source": [
    "peaks, _ = find_peaks(df_convert[3], height=0.20, threshold=None, distance=10, prominence=(None, 0.21), width=None, wlen=None, rel_height=0.5, plateau_size=None)\n",
    "#np.diff(peaks)\n",
    "#array([186, 180, 177, 171, 177, 169, 167, 164, 158, 162, 172])\n",
    "plt.plot(df_convert[4])\n",
    "plt.plot(peaks, df_convert[3][peaks], \"x\")\n",
    "plt.show()"
   ]
  }
 ],
 "metadata": {
  "kernelspec": {
   "display_name": "base",
   "language": "python",
   "name": "python3"
  },
  "language_info": {
   "codemirror_mode": {
    "name": "ipython",
    "version": 3
   },
   "file_extension": ".py",
   "mimetype": "text/x-python",
   "name": "python",
   "nbconvert_exporter": "python",
   "pygments_lexer": "ipython3",
   "version": "3.9.12"
  },
  "orig_nbformat": 4
 },
 "nbformat": 4,
 "nbformat_minor": 2
}
