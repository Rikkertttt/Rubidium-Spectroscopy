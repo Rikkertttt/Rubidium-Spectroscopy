{
 "cells": [
  {
   "cell_type": "code",
   "execution_count": 84,
   "metadata": {},
   "outputs": [],
   "source": [
    "import pandas as pd\n",
    "import matplotlib.pyplot as plt\n",
    "import numpy as np\n",
    "from scipy.optimize import curve_fit\n",
    "import scipy.stats as stats\n",
    "from lmfit import models\n",
    "from scipy.signal import find_peaks\n",
    "from itertools import combinations"
   ]
  },
  {
   "cell_type": "code",
   "execution_count": 85,
   "metadata": {},
   "outputs": [
    {
     "data": {
      "text/html": [
       "<div>\n",
       "<style scoped>\n",
       "    .dataframe tbody tr th:only-of-type {\n",
       "        vertical-align: middle;\n",
       "    }\n",
       "\n",
       "    .dataframe tbody tr th {\n",
       "        vertical-align: top;\n",
       "    }\n",
       "\n",
       "    .dataframe thead th {\n",
       "        text-align: right;\n",
       "    }\n",
       "</style>\n",
       "<table border=\"1\" class=\"dataframe\">\n",
       "  <thead>\n",
       "    <tr style=\"text-align: right;\">\n",
       "      <th></th>\n",
       "      <th>3</th>\n",
       "      <th>4</th>\n",
       "    </tr>\n",
       "  </thead>\n",
       "  <tbody>\n",
       "    <tr>\n",
       "      <th>0</th>\n",
       "      <td>0.13380</td>\n",
       "      <td>0.0272</td>\n",
       "    </tr>\n",
       "    <tr>\n",
       "      <th>1</th>\n",
       "      <td>0.13381</td>\n",
       "      <td>0.0280</td>\n",
       "    </tr>\n",
       "    <tr>\n",
       "      <th>2</th>\n",
       "      <td>0.13382</td>\n",
       "      <td>0.0280</td>\n",
       "    </tr>\n",
       "    <tr>\n",
       "      <th>3</th>\n",
       "      <td>0.13383</td>\n",
       "      <td>0.0272</td>\n",
       "    </tr>\n",
       "    <tr>\n",
       "      <th>4</th>\n",
       "      <td>0.13384</td>\n",
       "      <td>0.0280</td>\n",
       "    </tr>\n",
       "    <tr>\n",
       "      <th>...</th>\n",
       "      <td>...</td>\n",
       "      <td>...</td>\n",
       "    </tr>\n",
       "    <tr>\n",
       "      <th>2495</th>\n",
       "      <td>0.15875</td>\n",
       "      <td>0.0312</td>\n",
       "    </tr>\n",
       "    <tr>\n",
       "      <th>2496</th>\n",
       "      <td>0.15876</td>\n",
       "      <td>0.0312</td>\n",
       "    </tr>\n",
       "    <tr>\n",
       "      <th>2497</th>\n",
       "      <td>0.15877</td>\n",
       "      <td>0.0312</td>\n",
       "    </tr>\n",
       "    <tr>\n",
       "      <th>2498</th>\n",
       "      <td>0.15878</td>\n",
       "      <td>0.0312</td>\n",
       "    </tr>\n",
       "    <tr>\n",
       "      <th>2499</th>\n",
       "      <td>0.15879</td>\n",
       "      <td>0.0312</td>\n",
       "    </tr>\n",
       "  </tbody>\n",
       "</table>\n",
       "<p>2500 rows × 2 columns</p>\n",
       "</div>"
      ],
      "text/plain": [
       "            3       4\n",
       "0     0.13380  0.0272\n",
       "1     0.13381  0.0280\n",
       "2     0.13382  0.0280\n",
       "3     0.13383  0.0272\n",
       "4     0.13384  0.0280\n",
       "...       ...     ...\n",
       "2495  0.15875  0.0312\n",
       "2496  0.15876  0.0312\n",
       "2497  0.15877  0.0312\n",
       "2498  0.15878  0.0312\n",
       "2499  0.15879  0.0312\n",
       "\n",
       "[2500 rows x 2 columns]"
      ]
     },
     "execution_count": 85,
     "metadata": {},
     "output_type": "execute_result"
    }
   ],
   "source": [
    "df_convert = pd.read_csv(\"Magnetic_field_data/ALL0000/F0000CH4.CSV\", header=None, usecols=[3,4])\n",
    "\n",
    "df01= pd.read_csv(\"Magnetic_field_data/ALL0001/F0001CH2.CSV\", header=None, usecols=[3,4])\n",
    "df02= pd.read_csv(\"Magnetic_field_data/ALL0001/F0001CH3.CSV\", header=None, usecols=[3,4])\n",
    "\n",
    "df11 = pd.read_csv(\"Magnetic_field_data/ALL0002/F0002CH3.CSV\", header=None, usecols=[3,4])\n",
    "df12 = pd.read_csv(\"Magnetic_field_data/ALL0002/F0002CH4.CSV\", header=None, usecols=[3,4])\n",
    "\n",
    "df21= pd.read_csv(\"Magnetic_field_data/ALL0003/F0003CH3.CSV\", header=None, usecols=[3,4])\n",
    "df22 = pd.read_csv(\"Magnetic_field_data/ALL0003/F0003CH4.CSV\", header=None, usecols=[3,4])\n",
    "\n",
    "dd31 = pd.read_csv(\"Magnetic_field_data/ALL0004/F0004CH3.CSV\", header=None, usecols=[3,4])\n",
    "df32 = pd.read_csv(\"Magnetic_field_data/ALL0004/F0004CH4.CSV\", header=None, usecols=[3,4])\n",
    "\n",
    "df41 = pd.read_csv(\"Magnetic_field_data/ALL0005/F0005CH3.CSV\", header=None, usecols=[3,4])\n",
    "df42 = pd.read_csv(\"Magnetic_field_data/ALL0005/F0005CH4.CSV\", header=None, usecols=[3,4])\n",
    "\n",
    "df01\n",
    "\n"
   ]
  },
  {
   "cell_type": "code",
   "execution_count": 86,
   "metadata": {},
   "outputs": [
    {
     "data": {
      "text/plain": [
       "[<matplotlib.lines.Line2D at 0x19e13eb4070>]"
      ]
     },
     "execution_count": 86,
     "metadata": {},
     "output_type": "execute_result"
    },
    {
     "data": {
      "image/png": "[encoded data removed]",
      "text/plain": [
       "<Figure size 432x288 with 1 Axes>"
      ]
     },
     "metadata": {
      "needs_background": "light"
     },
     "output_type": "display_data"
    }
   ],
   "source": [
    "convertxcut = []\n",
    "convertycut = []\n",
    "df_convertx = df_convert[3]\n",
    "df_converty = df_convert[4]\n",
    "\n",
    "for x in range(800,2200):\n",
    "    convertxcut.append(df_convertx[x])\n",
    "    convertycut.append(df_converty[x])\n",
    "\n",
    "plt.plot(convertxcut, convertycut)\n"
   ]
  },
  {
   "cell_type": "code",
   "execution_count": 87,
   "metadata": {},
   "outputs": [
    {
     "name": "stdout",
     "output_type": "stream",
     "text": [
      "parameter names: ['a', 'b', 'A_amplitude', 'A_center', 'A_sigma', 'B_amplitude', 'B_center', 'B_sigma']\n",
      "independent variables: ['x']\n"
     ]
    }
   ],
   "source": [
    "#fit/find peak converting data\n",
    "def LinFunc(x, a, b):\n",
    "    y = a*x+b\n",
    "    return y\n",
    "\n",
    "Lin_model = models.Model(LinFunc)\n",
    "gm1 = models.GaussianModel(prefix=\"A_\")\n",
    "gm2= models.GaussianModel(prefix=\"B_\")\n",
    "\n",
    "tot_model = Lin_model + gm1 + gm2\n",
    "\n",
    "print(f'parameter names: {tot_model.param_names}')\n",
    "print(f'independent variables: {tot_model.independent_vars}')"
   ]
  },
  {
   "cell_type": "code",
   "execution_count": 88,
   "metadata": {},
   "outputs": [],
   "source": [
    "a = (convertycut[0]-convertycut[len(convertycut)-1])/(convertxcut[0]-convertxcut[len(convertxcut)-1])\n",
    "\n",
    "b = 2.5"
   ]
  },
  {
   "cell_type": "code",
   "execution_count": 91,
   "metadata": {},
   "outputs": [
    {
     "name": "stdout",
     "output_type": "stream",
     "text": [
      "[[Model]]\n",
      "    ((Model(LinFunc) + Model(gaussian, prefix='A_')) + Model(gaussian, prefix='B_'))\n",
      "[[Fit Statistics]]\n",
      "    # fitting method   = leastsq\n",
      "    # function evals   = 155\n",
      "    # data points      = 1400\n",
      "    # variables        = 8\n",
      "    chi-square         = 0.01133409\n",
      "    reduced chi-square = 8.1423e-06\n",
      "    Akaike info crit   = -16397.8347\n",
      "    Bayesian info crit = -16355.8809\n",
      "    R-squared          = 0.99817116\n",
      "[[Variables]]\n",
      "    a:           -1.58055088 +/- 0.00215987 (0.14%) (init = -1.515368)\n",
      "    b:            0.55848117 +/- 3.7108e-04 (0.07%) (init = 2.5)\n",
      "    A_amplitude: -9.6193e-04 +/- 3.7861e-06 (0.39%) (init = -0.25)\n",
      "    A_center:     0.14555992 +/- 1.1780e-05 (0.01%) (init = 0.14)\n",
      "    A_sigma:      0.00281151 +/- 1.2118e-05 (0.43%) (init = 1.8227e-05)\n",
      "    B_amplitude: -2.3913e-04 +/- 4.4286e-06 (1.85%) (init = -0.1)\n",
      "    B_center:     0.22129427 +/- 5.6256e-05 (0.03%) (init = 0.22)\n",
      "    B_sigma:      0.00315179 +/- 6.0178e-05 (1.91%) (init = 1.8227e-05)\n",
      "    A_fwhm:       0.00662061 +/- 2.8537e-05 (0.43%) == '2.3548200*A_sigma'\n",
      "    A_height:    -0.13649324 +/- 4.9992e-04 (0.37%) == '0.3989423*A_amplitude/max(1e-15, A_sigma)'\n",
      "    B_fwhm:       0.00742190 +/- 1.4171e-04 (1.91%) == '2.3548200*B_sigma'\n",
      "    B_height:    -0.03026843 +/- 4.7880e-04 (1.58%) == '0.3989423*B_amplitude/max(1e-15, B_sigma)'\n",
      "[[Correlations]] (unreported correlations are < 0.100)\n",
      "    C(a, b)                 = -0.972\n",
      "    C(B_amplitude, B_sigma) = -0.647\n",
      "    C(A_amplitude, A_sigma) = -0.609\n",
      "    C(a, B_amplitude)       = -0.443\n",
      "    C(b, B_amplitude)       = 0.354\n",
      "    C(a, B_sigma)           = 0.287\n",
      "    C(b, A_amplitude)       = -0.258\n",
      "    C(b, B_sigma)           = -0.229\n",
      "    C(a, A_amplitude)       = 0.183\n",
      "    C(b, A_sigma)           = 0.157\n",
      "    C(a, A_sigma)           = -0.112\n"
     ]
    },
    {
     "data": {
      "text/plain": [
       "<matplotlib.legend.Legend at 0x19e126ced60>"
      ]
     },
     "execution_count": 91,
     "metadata": {},
     "output_type": "execute_result"
    },
    {
     "data": {
      "image/png": "[encoded data removed]",
      "text/plain": [
       "<Figure size 432x288 with 1 Axes>"
      ]
     },
     "metadata": {
      "needs_background": "light"
     },
     "output_type": "display_data"
    }
   ],
   "source": [
    "result = tot_model.fit(convertycut, x=convertxcut, a=a, b=b, A_amplitude=-0.25, A_center=0.14, A_sigma=1.8227e-05, B_amplitude=-0.1, B_center=0.22, B_sigma=1.8227e-05)\n",
    "\n",
    "\n",
    "\n",
    "print(result.fit_report())\n",
    "\n",
    "plt.plot(convertxcut, convertycut, label='data')\n",
    "#plt.plot(df[9], result.init_fit, '--', label='initial fit')\n",
    "plt.plot(convertxcut, result.best_fit, '-', label='best fit')\n",
    "plt.legend()"
   ]
  },
  {
   "cell_type": "code",
   "execution_count": 92,
   "metadata": {},
   "outputs": [
    {
     "ename": "TypeError",
     "evalue": "only integer scalar arrays can be converted to a scalar index",
     "output_type": "error",
     "traceback": [
      "\u001b[1;31m---------------------------------------------------------------------------\u001b[0m",
      "\u001b[1;31mTypeError\u001b[0m                                 Traceback (most recent call last)",
      "\u001b[1;32mc:\\Users\\Limeng Yang\\Documents\\GitHub\\Rubidium-Spectroscopy\\magnetic diversion.ipynb Cell 7\u001b[0m in \u001b[0;36m<cell line: 5>\u001b[1;34m()\u001b[0m\n\u001b[0;32m      <a href='vscode-notebook-cell:/c%3A/Users/Limeng%20Yang/Documents/GitHub/Rubidium-Spectroscopy/magnetic%20diversion.ipynb#W5sZmlsZQ%3D%3D?line=1'>2</a>\u001b[0m \u001b[39m#np.diff(peaks)\u001b[39;00m\n\u001b[0;32m      <a href='vscode-notebook-cell:/c%3A/Users/Limeng%20Yang/Documents/GitHub/Rubidium-Spectroscopy/magnetic%20diversion.ipynb#W5sZmlsZQ%3D%3D?line=2'>3</a>\u001b[0m \u001b[39m#array([186, 180, 177, 171, 177, 169, 167, 164, 158, 162, 172])\u001b[39;00m\n\u001b[0;32m      <a href='vscode-notebook-cell:/c%3A/Users/Limeng%20Yang/Documents/GitHub/Rubidium-Spectroscopy/magnetic%20diversion.ipynb#W5sZmlsZQ%3D%3D?line=3'>4</a>\u001b[0m plt\u001b[39m.\u001b[39mplot(convertycut)\n\u001b[1;32m----> <a href='vscode-notebook-cell:/c%3A/Users/Limeng%20Yang/Documents/GitHub/Rubidium-Spectroscopy/magnetic%20diversion.ipynb#W5sZmlsZQ%3D%3D?line=4'>5</a>\u001b[0m plt\u001b[39m.\u001b[39mplot(peaks, convertxcut[peaks], \u001b[39m\"\u001b[39m\u001b[39mx\u001b[39m\u001b[39m\"\u001b[39m)\n\u001b[0;32m      <a href='vscode-notebook-cell:/c%3A/Users/Limeng%20Yang/Documents/GitHub/Rubidium-Spectroscopy/magnetic%20diversion.ipynb#W5sZmlsZQ%3D%3D?line=5'>6</a>\u001b[0m plt\u001b[39m.\u001b[39mshow()\n",
      "\u001b[1;31mTypeError\u001b[0m: only integer scalar arrays can be converted to a scalar index"
     ]
    },
    {
     "data": {
      "image/png": "[encoded data removed]",
      "text/plain": [
       "<Figure size 432x288 with 1 Axes>"
      ]
     },
     "metadata": {
      "needs_background": "light"
     },
     "output_type": "display_data"
    }
   ],
   "source": [
    "peaks, _ = find_peaks(convertxcut, height=0.20, threshold=None, distance=10, prominence=(None, 0.21), width=None, wlen=None, rel_height=0.5, plateau_size=None)\n",
    "#np.diff(peaks)\n",
    "#array([186, 180, 177, 171, 177, 169, 167, 164, 158, 162, 172])\n",
    "plt.plot(convertycut)\n",
    "plt.plot(peaks, convertxcut[peaks], \"x\")\n",
    "plt.show()"
   ]
  }
 ],
 "metadata": {
  "kernelspec": {
   "display_name": "base",
   "language": "python",
   "name": "python3"
  },
  "language_info": {
   "codemirror_mode": {
    "name": "ipython",
    "version": 3
   },
   "file_extension": ".py",
   "mimetype": "text/x-python",
   "name": "python",
   "nbconvert_exporter": "python",
   "pygments_lexer": "ipython3",
   "version": "3.9.12"
  },
  "orig_nbformat": 4
 },
 "nbformat": 4,
 "nbformat_minor": 2
}
