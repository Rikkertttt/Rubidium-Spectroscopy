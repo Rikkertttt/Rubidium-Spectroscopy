{
 "cells": [
  {
   "cell_type": "markdown",
   "metadata": {},
   "source": [
    "Limeng Yang & Rik van Rhee\n",
    "\n",
    "Jupyter Notebook used for the measurements of our experiment."
   ]
  },
  {
   "cell_type": "code",
   "execution_count": 138,
   "metadata": {},
   "outputs": [],
   "source": [
    "# Import statements\n",
    "\n",
    "import pandas as pd\n",
    "import matplotlib.pyplot as plt\n",
    "from lmfit import models\n",
    "from scipy.signal import find_peaks"
   ]
  },
  {
   "cell_type": "markdown",
   "metadata": {},
   "source": [
    "First we will use the calibration data to convert the time axis in our data to a frequency axis."
   ]
  },
  {
   "cell_type": "code",
   "execution_count": 139,
   "metadata": {},
   "outputs": [],
   "source": [
    "# Open calibration data\n",
    "\n",
    "df_calib = pd.read_csv('Data 01-12-23/Calibration_Data.csv', header=None, usecols=[3,4,9,10])\n",
    "\n",
    "#(Rename columns?)\n"
   ]
  },
  {
   "cell_type": "code",
   "execution_count": 140,
   "metadata": {},
   "outputs": [
    {
     "data": {
      "text/plain": [
       "<matplotlib.legend.Legend at 0x229eea4aaf0>"
      ]
     },
     "execution_count": 140,
     "metadata": {},
     "output_type": "execute_result"
    }
   ],
   "source": [
    "# Show the data in a graph\n",
    "\n",
    "plt.plot(df_calib[3],df_calib[4], label=\"Ch3\")\n",
    "plt.plot(df_calib[9],df_calib[10], label=\"Ch4\")\n",
    "plt.xlabel(\"Time (s)\")\n",
    "plt.ylabel(\"Intensity in PD (v)\")\n",
    "plt.legend()"
   ]
  },
  {
   "cell_type": "markdown",
   "metadata": {},
   "source": [
    "To convert the time axis to frequency, we will fit these curves with a linear fit and two Gaussian fits. From this we can take the found center points of the Gaussian dips and compare the difference in these dips to the known difference in frequency of these. This is $6834.7$ MHz."
   ]
  },
  {
   "cell_type": "code",
   "execution_count": 141,
   "metadata": {},
   "outputs": [
    {
     "name": "stdout",
     "output_type": "stream",
     "text": [
      "parameter names: ['a', 'b', 'A_amplitude', 'A_center', 'A_sigma', 'B_amplitude', 'B_center', 'B_sigma']\n",
      "independent variables: ['x']\n"
     ]
    }
   ],
   "source": [
    "# Define the fitfunctions\n",
    "\n",
    "def LinFunc(x, a, b):\n",
    "    y = a*x+b\n",
    "    return y\n",
    "\n",
    "Lin_model = models.Model(LinFunc)\n",
    "gauss_model_1 = models.GaussianModel(prefix=\"A_\")\n",
    "gauss_model_2 = models.GaussianModel(prefix=\"B_\")\n",
    "\n",
    "tot_model = Lin_model + gauss_model_1 + gauss_model_2\n",
    "\n",
    "print(f'parameter names: {tot_model.param_names}')\n",
    "print(f'independent variables: {tot_model.independent_vars}')"
   ]
  },
  {
   "cell_type": "code",
   "execution_count": 142,
   "metadata": {},
   "outputs": [],
   "source": [
    "# Set some initial parameters from observation\n",
    "\n",
    "a = (df_calib[4][0]-df_calib[4][len(df_calib[4])-1])/(df_calib[3][0]-df_calib[3][len(df_calib[3])-1]) \n",
    "b = 1.7\n",
    "A_amp = -0.3\n",
    "A_center = 0.20\n",
    "A_sigma = 0.005\n",
    "B_amp = -0.05\n",
    "B_center = 0.27\n",
    "B_sigma = 0.005"
   ]
  },
  {
   "cell_type": "code",
   "execution_count": 143,
   "metadata": {},
   "outputs": [],
   "source": [
    "# Fit the data with the models\n",
    "result_1= tot_model.fit(df_calib[4], x=df_calib[3], a=a, b=b, A_amplitude=A_amp, A_center=A_center, A_sigma=A_sigma, B_amplitude=-3.6906e-04, B_center=B_center, B_sigma=B_sigma)\n",
    "result_2= tot_model.fit(df_calib[10], x=df_calib[9], a=a, b=b, A_amplitude=A_amp, A_center=A_center, A_sigma=A_sigma, B_amplitude=B_amp, B_center=B_center, B_sigma=B_sigma)\n"
   ]
  },
  {
   "cell_type": "code",
   "execution_count": 144,
   "metadata": {},
   "outputs": [
    {
     "data": {
      "text/plain": [
       "<matplotlib.legend.Legend at 0x229eeabc250>"
      ]
     },
     "execution_count": 144,
     "metadata": {},
     "output_type": "execute_result"
    }
   ],
   "source": [
    "# Plot the first fit\n",
    "plt.plot(df_calib[3], df_calib[4], label='data CH3')\n",
    "plt.plot(df_calib[3], result_1.best_fit, '-', label='best fit CH3')\n",
    "plt.legend()"
   ]
  },
  {
   "cell_type": "code",
   "execution_count": 145,
   "metadata": {},
   "outputs": [
    {
     "data": {
      "text/plain": [
       "<matplotlib.legend.Legend at 0x229eeabc4c0>"
      ]
     },
     "execution_count": 145,
     "metadata": {},
     "output_type": "execute_result"
    }
   ],
   "source": [
    "# Plot the second fit\n",
    "plt.plot(df_calib[9], df_calib[10], label='data CH4')\n",
    "plt.plot(df_calib[9], result_2.best_fit, '-', label='best fit CH4')\n",
    "plt.legend()"
   ]
  },
  {
   "cell_type": "code",
   "execution_count": 146,
   "metadata": {},
   "outputs": [
    {
     "name": "stdout",
     "output_type": "stream",
     "text": [
      "The first peak in the two fits have centers at 0.202194582795992 and 0.202189933914028\n",
      "The second peak in the two fits have centers at 0.26644218706949213 and 0.2670902247791182\n"
     ]
    }
   ],
   "source": [
    "# Compare the centers of the two fits\n",
    "\n",
    "A_center_1 = result_1.params.get(\"A_center\").value\n",
    "A_center_2 = result_2.params.get(\"A_center\").value\n",
    "B_center_1 = result_1.params.get(\"B_center\").value\n",
    "B_center_2 = result_2.params.get(\"B_center\").value\n",
    "\n",
    "print(f\"The first peak in the two fits have centers at {A_center_1} and {A_center_2}\")\n",
    "print(f\"The second peak in the two fits have centers at {B_center_1} and {B_center_2}\")"
   ]
  },
  {
   "cell_type": "markdown",
   "metadata": {},
   "source": [
    "These centers are close to each other, so we will take the mean"
   ]
  },
  {
   "cell_type": "code",
   "execution_count": 147,
   "metadata": {},
   "outputs": [],
   "source": [
    "peak_A = (A_center_1+A_center_2)/2\n",
    "peak_B = (B_center_1+B_center_2)/2"
   ]
  },
  {
   "cell_type": "markdown",
   "metadata": {},
   "source": [
    "We can thus convert between the time axis and the frequency axis by using:\n",
    "\\begin{equation}\n",
    "f = \\frac{\\Delta f}{\\Delta t} t.\n",
    "\\end{equation}\n",
    "We will use $\\frac{\\Delta f}{\\Delta t}=Q$ for notation.\n"
   ]
  },
  {
   "cell_type": "code",
   "execution_count": 148,
   "metadata": {},
   "outputs": [
    {
     "data": {
      "text/plain": [
       "105842.99484967359"
      ]
     },
     "execution_count": 148,
     "metadata": {},
     "output_type": "execute_result"
    }
   ],
   "source": [
    "delta_f = 6834.7 #MHz\n",
    "delta_t = abs(peak_A-peak_B)\n",
    "Q = delta_f/delta_t\n",
    "Q"
   ]
  },
  {
   "cell_type": "code",
   "execution_count": 149,
   "metadata": {},
   "outputs": [
    {
     "data": {
      "text/plain": [
       "<matplotlib.legend.Legend at 0x229ee6c94f0>"
      ]
     },
     "execution_count": 149,
     "metadata": {},
     "output_type": "execute_result"
    }
   ],
   "source": [
    "# Converting the axis for the calibration data\n",
    "df_calib[\"freq1\"]=Q*df_calib[3]\n",
    "df_calib[\"freq2\"]=Q*df_calib[9]\n",
    "\n",
    "# Plotting this data\n",
    "plt.plot(df_calib[\"freq1\"],df_calib[4], label=\"Ch3\")\n",
    "plt.plot(df_calib[\"freq2\"],df_calib[10], label=\"Ch4\")\n",
    "plt.xlabel(\"Freq. (MHz)\")\n",
    "plt.ylabel(\"Intensity in PD (v)\")\n",
    "plt.legend()"
   ]
  },
  {
   "cell_type": "markdown",
   "metadata": {},
   "source": [
    "For each dataset we will further use, we can thus convert the time axis to frequency axis."
   ]
  },
  {
   "cell_type": "markdown",
   "metadata": {},
   "source": [
    "We will now open each recorded measurement at different currents. We will find the peaks of the $F=3$ lines and calculate the difference. These differences we will add to a list which we will plot against a list of the used currents."
   ]
  },
  {
   "cell_type": "code",
   "execution_count": 150,
   "metadata": {},
   "outputs": [],
   "source": [
    "# First create the list of frequencies en list of currents\n",
    "Currents = [0, 0.105, 0.206, 0.3, 0.408, 0.508, 0.6]\n",
    "Frequencies = []"
   ]
  },
  {
   "cell_type": "code",
   "execution_count": 151,
   "metadata": {},
   "outputs": [],
   "source": [
    "# First the dataset without a current\n",
    "df_nocur =  pd.read_csv('Data 01-12-23/No_Current_Data.csv', header=None, usecols=[3,4,9,10])\n",
    "\n",
    "# Convert the time to freq\n",
    "df_nocur[\"freq1\"]=df_nocur[3]*Q\n",
    "df_nocur[\"freq2\"]=df_nocur[9]*Q"
   ]
  },
  {
   "cell_type": "code",
   "execution_count": 152,
   "metadata": {},
   "outputs": [
    {
     "data": {
      "text/plain": [
       "[<matplotlib.lines.Line2D at 0x229ef4cc7f0>]"
      ]
     },
     "execution_count": 152,
     "metadata": {},
     "output_type": "execute_result"
    }
   ],
   "source": [
    "# Plot this data\n",
    "\n",
    "plt.plot(df_nocur[\"freq1\"], df_nocur[4], label=\"CH3\")\n",
    "plt.plot(df_nocur[\"freq2\"], df_nocur[10], label=\"CH4\")"
   ]
  },
  {
   "cell_type": "code",
   "execution_count": 153,
   "metadata": {},
   "outputs": [],
   "source": [
    "# Use an online tool to help find peaks\n",
    "from peakdetect_online import peakdetect\n",
    "peaks1 = peakdetect(df_nocur[4], lookahead=100)\n",
    "peaks2 = peakdetect(df_nocur[10], lookahead=100)\n",
    "\n",
    "indices1 = []\n",
    "indices2 = []\n",
    "# Filter out only the indices\n",
    "for p in peaks1:\n",
    "    for d in p:\n",
    "        indices1.append(d[0])\n",
    "for p in peaks2:\n",
    "    for d in p:\n",
    "        indices2.append(d[0])"
   ]
  },
  {
   "cell_type": "code",
   "execution_count": 154,
   "metadata": {},
   "outputs": [
    {
     "data": {
      "text/plain": [
       "<matplotlib.collections.PathCollection at 0x229ef4da7c0>"
      ]
     },
     "execution_count": 154,
     "metadata": {},
     "output_type": "execute_result"
    }
   ],
   "source": [
    "# Plot the data with the found peaks\n",
    "plt.plot(df_nocur[\"freq1\"], df_nocur[4], \"-\")\n",
    "plt.scatter(df_nocur[\"freq1\"][indices1], df_nocur[4][indices1], color=\"red\")\n",
    "\n",
    "plt.plot(df_nocur[\"freq2\"], df_nocur[10], \"-\")\n",
    "plt.scatter(df_nocur[\"freq2\"][indices2], df_nocur[10][indices2], color=\"red\")"
   ]
  },
  {
   "cell_type": "markdown",
   "metadata": {},
   "source": [
    "From this we can see that the peak we want is found. We will then, per datafile, manually get this peak and add the difference to a list."
   ]
  },
  {
   "cell_type": "code",
   "execution_count": 155,
   "metadata": {},
   "outputs": [],
   "source": [
    "sive1_freq=[]\n",
    "sive1_inten=[]\n",
    "sive2_freq=[]\n",
    "sive2_inten=[]\n",
    "\n",
    "for index in indices1:\n",
    "    if 21300<df_nocur[\"freq1\"][index]<21500:\n",
    "        sive1_freq.append(df_nocur[\"freq1\"][index])\n",
    "        sive1_inten.append(df_nocur[4][index])\n",
    "for index in indices2:\n",
    "    if 21300<df_nocur[\"freq2\"][index]<21500:\n",
    "        sive2_freq.append(df_nocur[\"freq1\"][index])\n",
    "        sive2_inten.append(df_nocur[4][index])\n",
    "        \n",
    "for index in range(len(sive1_freq)-1):\n",
    "    if sive1_inten[index]==max(sive1_inten):\n",
    "        save1_index=index\n",
    "for index in range(len(sive2_freq)-1):\n",
    "    if sive2_inten[index]==max(sive2_inten):\n",
    "        save2_index=index\n",
    "\n",
    "diff = abs(sive1_freq[save1_index]-sive2_freq[save2_index])\n",
    "Frequencies.append(diff)"
   ]
  },
  {
   "cell_type": "code",
   "execution_count": 156,
   "metadata": {},
   "outputs": [],
   "source": [
    "# Now data with about 1 Ampere\n",
    "df_1Amp =  pd.read_csv('Data 01-12-23/0.105Amp_Data.csv', header=None, usecols=[3,4,9,10])\n",
    "\n",
    "# Convert the time to freq\n",
    "df_1Amp[\"freq1\"]=df_1Amp[3]*Q\n",
    "df_1Amp[\"freq2\"]=df_1Amp[9]*Q\n",
    "\n",
    "# Use tool\n",
    "from peakdetect_online import peakdetect\n",
    "peaks1 = peakdetect(df_1Amp[4], lookahead=100)\n",
    "peaks2 = peakdetect(df_1Amp[10], lookahead=100)\n",
    "\n",
    "indices1 = []\n",
    "indices2 = []\n",
    "# Filter out only the indices\n",
    "for p in peaks1:\n",
    "    for d in p:\n",
    "        indices1.append(d[0])\n",
    "for p in peaks2:\n",
    "    for d in p:\n",
    "        indices2.append(d[0])\n",
    "\n",
    "# Plot the data with the found peaks\n",
    "plt.plot(df_1Amp[\"freq1\"], df_1Amp[4], \"-\")\n",
    "plt.scatter(df_1Amp[\"freq1\"][indices1], df_1Amp[4][indices1], color=\"red\")\n",
    "plt.plot(df_1Amp[\"freq2\"], df_1Amp[10], \"-\")\n",
    "plt.scatter(df_1Amp[\"freq2\"][indices2], df_1Amp[10][indices2], color=\"red\")\n",
    "\n",
    "# Sive out the desired peaks and find the differnce in frequency\n",
    "sive1_freq=[]\n",
    "sive1_inten=[]\n",
    "sive2_freq=[]\n",
    "sive2_inten=[]\n",
    "\n",
    "for index in indices1:\n",
    "    if 21300<df_1Amp[\"freq1\"][index]<21500:\n",
    "        sive1_freq.append(df_1Amp[\"freq1\"][index])\n",
    "        sive1_inten.append(df_1Amp[4][index])\n",
    "for index in indices2:\n",
    "    if 21300<df_1Amp[\"freq2\"][index]<21500:\n",
    "        sive2_freq.append(df_1Amp[\"freq1\"][index])\n",
    "        sive2_inten.append(df_1Amp[4][index])\n",
    "        \n",
    "for index in range(len(sive1_freq)-1):\n",
    "    if sive1_inten[index]==max(sive1_inten):\n",
    "        save1_index=index\n",
    "for index in range(len(sive2_freq)-1):\n",
    "    if sive2_inten[index]==max(sive2_inten):\n",
    "        save2_index=index\n",
    "\n",
    "diff = abs(sive1_freq[save1_index]-sive2_freq[save2_index])\n",
    "Frequencies.append(diff)"
   ]
  },
  {
   "cell_type": "code",
   "execution_count": 157,
   "metadata": {},
   "outputs": [],
   "source": [
    "# Now data with about 2 Ampere\n",
    "df_2Amp =  pd.read_csv('Data 01-12-23/0.206Amp_Data.csv', header=None, usecols=[3,4,9,10])\n",
    "\n",
    "# Convert the time to freq\n",
    "df_2Amp[\"freq1\"]=df_2Amp[3]*Q\n",
    "df_2Amp[\"freq2\"]=df_2Amp[9]*Q\n",
    "\n",
    "# Use tool\n",
    "from peakdetect_online import peakdetect\n",
    "peaks1 = peakdetect(df_2Amp[4], lookahead=100)\n",
    "peaks2 = peakdetect(df_2Amp[10], lookahead=100)\n",
    "\n",
    "indices1 = []\n",
    "indices2 = []\n",
    "# Filter out only the indices\n",
    "for p in peaks1:\n",
    "    for d in p:\n",
    "        indices1.append(d[0])\n",
    "for p in peaks2:\n",
    "    for d in p:\n",
    "        indices2.append(d[0])\n",
    "\n",
    "# Plot the data with the found peaks\n",
    "plt.plot(df_2Amp[\"freq1\"], df_2Amp[4], \"-\")\n",
    "plt.scatter(df_2Amp[\"freq1\"][indices1], df_2Amp[4][indices1], color=\"red\")\n",
    "plt.plot(df_2Amp[\"freq2\"], df_2Amp[10], \"-\")\n",
    "plt.scatter(df_2Amp[\"freq2\"][indices2], df_2Amp[10][indices2], color=\"red\")\n",
    "\n",
    "# Sive out the desired peaks and find the differnce in frequency\n",
    "sive1_freq=[]\n",
    "sive1_inten=[]\n",
    "sive2_freq=[]\n",
    "sive2_inten=[]\n",
    "\n",
    "for index in indices1:\n",
    "    if 21300<df_2Amp[\"freq1\"][index]<21500:\n",
    "        sive1_freq.append(df_2Amp[\"freq1\"][index])\n",
    "        sive1_inten.append(df_2Amp[4][index])\n",
    "for index in indices2:\n",
    "    if 21300<df_2Amp[\"freq2\"][index]<21500:\n",
    "        sive2_freq.append(df_2Amp[\"freq1\"][index])\n",
    "        sive2_inten.append(df_2Amp[4][index])\n",
    "        \n",
    "for index in range(len(sive1_freq)-1):\n",
    "    if sive1_inten[index]==max(sive1_inten):\n",
    "        save1_index=index\n",
    "for index in range(len(sive2_freq)-1):\n",
    "    if sive2_inten[index]==max(sive2_inten):\n",
    "        save2_index=index\n",
    "\n",
    "diff = abs(sive1_freq[save1_index]-sive2_freq[save2_index])\n",
    "Frequencies.append(diff)"
   ]
  },
  {
   "cell_type": "code",
   "execution_count": 158,
   "metadata": {},
   "outputs": [],
   "source": [
    "# Now data with about 3 Ampere\n",
    "df_3Amp =  pd.read_csv('Data 01-12-23/0.300Amp_Data.csv', header=None, usecols=[3,4,9,10])\n",
    "\n",
    "# Convert the time to freq\n",
    "df_3Amp[\"freq1\"]=df_3Amp[3]*Q\n",
    "df_3Amp[\"freq2\"]=df_3Amp[9]*Q\n",
    "\n",
    "# Use tool\n",
    "from peakdetect_online import peakdetect\n",
    "peaks1 = peakdetect(df_3Amp[4], lookahead=100)\n",
    "peaks2 = peakdetect(df_3Amp[10], lookahead=100)\n",
    "\n",
    "indices1 = []\n",
    "indices2 = []\n",
    "# Filter out only the indices\n",
    "for p in peaks1:\n",
    "    for d in p:\n",
    "        indices1.append(d[0])\n",
    "for p in peaks2:\n",
    "    for d in p:\n",
    "        indices2.append(d[0])\n",
    "\n",
    "# Plot the data with the found peaks\n",
    "plt.plot(df_3Amp[\"freq1\"], df_3Amp[4], \"-\")\n",
    "plt.scatter(df_3Amp[\"freq1\"][indices1], df_3Amp[4][indices1], color=\"red\")\n",
    "plt.plot(df_3Amp[\"freq2\"], df_3Amp[10], \"-\")\n",
    "plt.scatter(df_3Amp[\"freq2\"][indices2], df_3Amp[10][indices2], color=\"red\")\n",
    "\n",
    "# Sive out the desired peaks and find the differnce in frequency\n",
    "sive1_freq=[]\n",
    "sive1_inten=[]\n",
    "sive2_freq=[]\n",
    "sive2_inten=[]\n",
    "\n",
    "for index in indices1:\n",
    "    if 21300<df_3Amp[\"freq1\"][index]<21500:\n",
    "        sive1_freq.append(df_3Amp[\"freq1\"][index])\n",
    "        sive1_inten.append(df_3Amp[4][index])\n",
    "for index in indices2:\n",
    "    if 21300<df_3Amp[\"freq2\"][index]<21500:\n",
    "        sive2_freq.append(df_3Amp[\"freq1\"][index])\n",
    "        sive2_inten.append(df_3Amp[4][index])\n",
    "        \n",
    "for index in range(len(sive1_freq)-1):\n",
    "    if sive1_inten[index]==max(sive1_inten):\n",
    "        save1_index=index\n",
    "for index in range(len(sive2_freq)-1):\n",
    "    if sive2_inten[index]==max(sive2_inten):\n",
    "        save2_index=index\n",
    "\n",
    "diff = abs(sive1_freq[save1_index]-sive2_freq[save2_index])\n",
    "Frequencies.append(diff)"
   ]
  },
  {
   "cell_type": "code",
   "execution_count": 159,
   "metadata": {},
   "outputs": [],
   "source": [
    "# Now data with about 4 Ampere\n",
    "df_4Amp =  pd.read_csv('Data 01-12-23/0.408Amp_Data.csv', header=None, usecols=[3,4,9,10])\n",
    "\n",
    "# Convert the time to freq\n",
    "df_4Amp[\"freq1\"]=df_4Amp[3]*Q\n",
    "df_4Amp[\"freq2\"]=df_4Amp[9]*Q\n",
    "\n",
    "# Use tool\n",
    "from peakdetect_online import peakdetect\n",
    "peaks1 = peakdetect(df_4Amp[4], lookahead=100)\n",
    "peaks2 = peakdetect(df_4Amp[10], lookahead=100)\n",
    "\n",
    "indices1 = []\n",
    "indices2 = []\n",
    "# Filter out only the indices\n",
    "for p in peaks1:\n",
    "    for d in p:\n",
    "        indices1.append(d[0])\n",
    "for p in peaks2:\n",
    "    for d in p:\n",
    "        indices2.append(d[0])\n",
    "\n",
    "# Plot the data with the found peaks\n",
    "plt.plot(df_4Amp[\"freq1\"], df_4Amp[4], \"-\")\n",
    "plt.scatter(df_4Amp[\"freq1\"][indices1], df_4Amp[4][indices1], color=\"red\")\n",
    "plt.plot(df_4Amp[\"freq2\"], df_4Amp[10], \"-\")\n",
    "plt.scatter(df_4Amp[\"freq2\"][indices2], df_4Amp[10][indices2], color=\"red\")\n",
    "\n",
    "# Sive out the desired peaks and find the differnce in frequency\n",
    "sive1_freq=[]\n",
    "sive1_inten=[]\n",
    "sive2_freq=[]\n",
    "sive2_inten=[]\n",
    "\n",
    "for index in indices1:\n",
    "    if 21300<df_4Amp[\"freq1\"][index]<21500:\n",
    "        sive1_freq.append(df_4Amp[\"freq1\"][index])\n",
    "        sive1_inten.append(df_4Amp[4][index])\n",
    "for index in indices2:\n",
    "    if 21300<df_4Amp[\"freq2\"][index]<21500:\n",
    "        sive2_freq.append(df_4Amp[\"freq1\"][index])\n",
    "        sive2_inten.append(df_4Amp[4][index])\n",
    "        \n",
    "for index in range(len(sive1_freq)-1):\n",
    "    if sive1_inten[index]==max(sive1_inten):\n",
    "        save1_index=index\n",
    "for index in range(len(sive2_freq)-1):\n",
    "    if sive2_inten[index]==max(sive2_inten):\n",
    "        save2_index=index\n",
    "\n",
    "diff = abs(sive1_freq[save1_index]-sive2_freq[save2_index])\n",
    "Frequencies.append(diff)"
   ]
  },
  {
   "cell_type": "code",
   "execution_count": 160,
   "metadata": {},
   "outputs": [],
   "source": [
    "# Now data with about 5 Ampere\n",
    "df_5Amp =  pd.read_csv('Data 01-12-23/0.509Amp_Data.csv', header=None, usecols=[3,4,9,10])\n",
    "\n",
    "# Convert the time to freq\n",
    "df_5Amp[\"freq1\"]=df_5Amp[3]*Q\n",
    "df_5Amp[\"freq2\"]=df_5Amp[9]*Q\n",
    "\n",
    "# Use tool\n",
    "from peakdetect_online import peakdetect\n",
    "peaks1 = peakdetect(df_5Amp[4], lookahead=100)\n",
    "peaks2 = peakdetect(df_5Amp[10], lookahead=50)\n",
    "\n",
    "indices1 = []\n",
    "indices2 = []\n",
    "# Filter out only the indices\n",
    "for p in peaks1:\n",
    "    for d in p:\n",
    "        indices1.append(d[0])\n",
    "for p in peaks2:\n",
    "    for d in p:\n",
    "        indices2.append(d[0])\n",
    "\n",
    "# Plot the data with the found peaks\n",
    "plt.plot(df_5Amp[\"freq1\"], df_5Amp[4], \"-\")\n",
    "plt.scatter(df_5Amp[\"freq1\"][indices1], df_5Amp[4][indices1], color=\"red\")\n",
    "plt.plot(df_5Amp[\"freq2\"], df_5Amp[10], \"-\")\n",
    "plt.scatter(df_5Amp[\"freq2\"][indices2], df_5Amp[10][indices2], color=\"red\")\n",
    "\n",
    "# Sive out the desired peaks and find the differnce in frequency\n",
    "sive1_freq=[]\n",
    "sive1_inten=[]\n",
    "sive2_freq=[]\n",
    "sive2_inten=[]\n",
    "\n",
    "for index in indices1:\n",
    "    if 21300<df_5Amp[\"freq1\"][index]<21500:\n",
    "        sive1_freq.append(df_5Amp[\"freq1\"][index])\n",
    "        sive1_inten.append(df_5Amp[4][index])\n",
    "for index in indices2:\n",
    "    if 21300<df_5Amp[\"freq2\"][index]<21500:\n",
    "        sive2_freq.append(df_5Amp[\"freq1\"][index])\n",
    "        sive2_inten.append(df_5Amp[4][index])\n",
    "        \n",
    "for index in range(len(sive1_freq)-1):\n",
    "    if sive1_inten[index]==max(sive1_inten):\n",
    "        save1_index=index\n",
    "for index in range(len(sive2_freq)-1):\n",
    "    if sive2_inten[index]==max(sive2_inten):\n",
    "        save2_index=index\n",
    "\n",
    "diff = abs(sive1_freq[save1_index]-sive2_freq[save2_index])\n",
    "Frequencies.append(diff)"
   ]
  },
  {
   "cell_type": "code",
   "execution_count": 161,
   "metadata": {},
   "outputs": [],
   "source": [
    "# Now data with about 6 Ampere\n",
    "df_6Amp =  pd.read_csv('Data 01-12-23/0.600Amp_Data.csv', header=None, usecols=[3,4,9,10])\n",
    "\n",
    "# Convert the time to freq\n",
    "df_6Amp[\"freq1\"]=df_6Amp[3]*Q\n",
    "df_6Amp[\"freq2\"]=df_6Amp[9]*Q\n",
    "\n",
    "# Use tool\n",
    "from peakdetect_online import peakdetect\n",
    "peaks1 = peakdetect(df_6Amp[4], lookahead=100)\n",
    "peaks2 = peakdetect(df_6Amp[10], lookahead=50)\n",
    "\n",
    "indices1 = []\n",
    "indices2 = []\n",
    "# Filter out only the indices\n",
    "for p in peaks1:\n",
    "    for d in p:\n",
    "        indices1.append(d[0])\n",
    "for p in peaks2:\n",
    "    for d in p:\n",
    "        indices2.append(d[0])\n",
    "\n",
    "# Plot the data with the found peaks\n",
    "plt.plot(df_6Amp[\"freq1\"], df_6Amp[4], \"-\")\n",
    "plt.scatter(df_6Amp[\"freq1\"][indices1], df_6Amp[4][indices1], color=\"red\")\n",
    "plt.plot(df_6Amp[\"freq2\"], df_6Amp[10], \"-\")\n",
    "plt.scatter(df_6Amp[\"freq2\"][indices2], df_6Amp[10][indices2], color=\"red\")\n",
    "\n",
    "# Sive out the desired peaks and find the differnce in frequency\n",
    "sive1_freq=[]\n",
    "sive1_inten=[]\n",
    "sive2_freq=[]\n",
    "sive2_inten=[]\n",
    "\n",
    "for index in indices1:\n",
    "    if 21300<df_6Amp[\"freq1\"][index]<21500:\n",
    "        sive1_freq.append(df_6Amp[\"freq1\"][index])\n",
    "        sive1_inten.append(df_6Amp[4][index])\n",
    "for index in indices2:\n",
    "    if 21300<df_6Amp[\"freq2\"][index]<21500:\n",
    "        sive2_freq.append(df_6Amp[\"freq1\"][index])\n",
    "        sive2_inten.append(df_6Amp[4][index])\n",
    "        \n",
    "for index in range(len(sive1_freq)-1):\n",
    "    if sive1_inten[index]==max(sive1_inten):\n",
    "        save1_index=index\n",
    "for index in range(len(sive2_freq)-1):\n",
    "    if sive2_inten[index]==max(sive2_inten):\n",
    "        save2_index=index\n",
    "\n",
    "diff = abs(sive1_freq[save1_index]-sive2_freq[save2_index])\n",
    "Frequencies.append(diff)"
   ]
  },
  {
   "cell_type": "markdown",
   "metadata": {},
   "source": [
    "We now have 2 lists, one with currents and one with difference of frequencies. We can now plot this."
   ]
  },
  {
   "cell_type": "code",
   "execution_count": 162,
   "metadata": {},
   "outputs": [
    {
     "data": {
      "text/plain": [
       "<matplotlib.collections.PathCollection at 0x229ef569970>"
      ]
     },
     "execution_count": 162,
     "metadata": {},
     "output_type": "execute_result"
    }
   ],
   "source": [
    "# Convert from MHz to Hz\n",
    "Frequencies_in_Hz=[]\n",
    "for freq in Frequencies:\n",
    "    Frequencies_in_Hz.append(freq*1e6)\n",
    "\n",
    "\n",
    "plt.scatter(Currents, Frequencies_in_Hz)"
   ]
  },
  {
   "cell_type": "markdown",
   "metadata": {},
   "source": [
    "This looks quite linear. And according to our hypothesis, the relation should be:\n",
    "\\begin{equation}\n",
    "\\Delta\\nu = \\frac{\\mu_B\\mu_0N\\Delta M}{lh}I.\n",
    "\\end{equation}\n",
    "Where that fractioned term is a constant.\n",
    "\n",
    "We will now try to fit a linear fit through this data."
   ]
  },
  {
   "cell_type": "code",
   "execution_count": 163,
   "metadata": {},
   "outputs": [
    {
     "name": "stdout",
     "output_type": "stream",
     "text": [
      "[[Model]]\n",
      "    Model(LinFunc)\n",
      "[[Fit Statistics]]\n",
      "    # fitting method   = leastsq\n",
      "    # function evals   = 7\n",
      "    # data points      = 7\n",
      "    # variables        = 2\n",
      "    chi-square         = 2.6761e+13\n",
      "    reduced chi-square = 5.3522e+12\n",
      "    Akaike info crit   = 206.804416\n",
      "    Bayesian info crit = 206.696236\n",
      "    R-squared          = 0.97434958\n",
      "[[Variables]]\n",
      "    a:  60073121.7 +/- 4358981.69 (7.26%) (init = 6000000)\n",
      "    b:  2007978.69 +/- 1587111.53 (79.04%) (init = 0)\n",
      "[[Correlations]] (unreported correlations are < 0.100)\n",
      "    C(a, b) = -0.835\n"
     ]
    },
    {
     "data": {
      "text/plain": [
       "<matplotlib.legend.Legend at 0x229ef540550>"
      ]
     },
     "execution_count": 163,
     "metadata": {},
     "output_type": "execute_result"
    }
   ],
   "source": [
    "# Use the previous linear fit\n",
    "LinFit = Lin_model.fit(Frequencies_in_Hz, x=Currents, a=6e6, b=0)\n",
    "\n",
    "print(LinFit.fit_report())\n",
    "\n",
    "plt.plot(Currents, Frequencies_in_Hz, label=\"data\")\n",
    "plt.plot(Currents, LinFit.best_fit, '-', label='best fit')\n",
    "plt.legend()\n"
   ]
  },
  {
   "cell_type": "code",
   "execution_count": 164,
   "metadata": {},
   "outputs": [
    {
     "ename": "SyntaxError",
     "evalue": "invalid syntax (2217110932.py, line 5)",
     "output_type": "error",
     "traceback": [
      "\u001b[1;36m  Input \u001b[1;32mIn [164]\u001b[1;36m\u001b[0m\n\u001b[1;33m    DeltaM= #Yet not known, might need to find\u001b[0m\n\u001b[1;37m            ^\u001b[0m\n\u001b[1;31mSyntaxError\u001b[0m\u001b[1;31m:\u001b[0m invalid syntax\n"
     ]
    }
   ],
   "source": [
    "# Hypothetical constant\n",
    "MuB = 9.274e-24\n",
    "Mu0=1.2566e-6\n",
    "N=100\n",
    "DeltaM= #Yet not known, might need to find\n",
    "l=0.01 #Yet not known\n",
    "h=6.626e-34\n",
    "\n",
    "const=(MuB*Mu0*N*DeltaM)/(l*h)\n",
    "const"
   ]
  }
 ],
 "metadata": {
  "kernelspec": {
   "display_name": "base",
   "language": "python",
   "name": "python3"
  },
  "language_info": {
   "codemirror_mode": {
    "name": "ipython",
    "version": 3
   },
   "file_extension": ".py",
   "mimetype": "text/x-python",
   "name": "python",
   "nbconvert_exporter": "python",
   "pygments_lexer": "ipython3",
   "version": "3.9.12"
  }
 },
 "nbformat": 4,
 "nbformat_minor": 2
}
