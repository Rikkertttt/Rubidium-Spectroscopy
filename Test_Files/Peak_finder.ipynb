{
 "cells": [
  {
   "cell_type": "code",
   "execution_count": 3,
   "metadata": {},
   "outputs": [],
   "source": [
    "import pandas as pd\n",
    "import matplotlib.pyplot as plt\n",
    "from scipy.signal import find_peaks\n",
    "from itertools import combinations\n",
    "\n"
   ]
  },
  {
   "cell_type": "code",
   "execution_count": 4,
   "metadata": {},
   "outputs": [
    {
     "name": "stdout",
     "output_type": "stream",
     "text": [
      "2500\n"
     ]
    }
   ],
   "source": [
    "df = pd.read_csv('Data_for_measuring peaks\\F0004CH3.CSV', header=None, usecols=[3,4])\n",
    "dfp = pd.read_csv('Data_for_measuring peaks\\F0004CH4.CSV', header=None, usecols=[3,4])\n",
    "\n",
    "print(len(df[3]))"
   ]
  },
  {
   "cell_type": "code",
   "execution_count": 5,
   "metadata": {},
   "outputs": [],
   "source": [
    "time = df[3][500:1800]\n",
    "inten = df[4][500:1800]"
   ]
  },
  {
   "cell_type": "code",
   "execution_count": 6,
   "metadata": {},
   "outputs": [
    {
     "data": {
      "text/plain": [
       "[<matplotlib.lines.Line2D at 0x1c463e15400>]"
      ]
     },
     "execution_count": 6,
     "metadata": {},
     "output_type": "execute_result"
    },
    {
     "data": {
      "image/png": "[encoded data removed]",
      "text/plain": [
       "<Figure size 432x288 with 1 Axes>"
      ]
     },
     "metadata": {
      "needs_background": "light"
     },
     "output_type": "display_data"
    }
   ],
   "source": [
    "plt.plot(time, inten, \".\")"
   ]
  },
  {
   "cell_type": "code",
   "execution_count": 7,
   "metadata": {},
   "outputs": [
    {
     "name": "stdout",
     "output_type": "stream",
     "text": [
      "[379 500 710]\n",
      "500    -0.0730\n",
      "501    -0.0729\n",
      "502    -0.0728\n",
      "503    -0.0727\n",
      "504    -0.0726\n",
      "         ...  \n",
      "1795    0.0565\n",
      "1796    0.0566\n",
      "1797    0.0567\n",
      "1798    0.0568\n",
      "1799    0.0569\n",
      "Name: 3, Length: 1300, dtype: float64\n"
     ]
    },
    {
     "data": {
      "text/plain": [
       "<matplotlib.collections.PathCollection at 0x1c464936520>"
      ]
     },
     "execution_count": 7,
     "metadata": {},
     "output_type": "execute_result"
    },
    {
     "data": {
      "image/png": "[encoded data removed]",
      "text/plain": [
       "<Figure size 432x288 with 1 Axes>"
      ]
     },
     "metadata": {
      "needs_background": "light"
     },
     "output_type": "display_data"
    }
   ],
   "source": [
    "indices, info =find_peaks(inten, prominence=-1)\n",
    "print(indices)\n",
    "print(time)\n",
    "plt.plot(time, inten, \".\")\n",
    "plt.scatter(time[indices+500], inten[indices+500], color=\"red\")"
   ]
  },
  {
   "cell_type": "code",
   "execution_count": 8,
   "metadata": {},
   "outputs": [
    {
     "name": "stdout",
     "output_type": "stream",
     "text": [
      "[-0.0351, -0.023, -0.002]\n",
      "[0.0121, 0.020999999999999998, 0.0331]\n",
      "[0.5761904761904763, 0.634441087613293, 0.36555891238670696]\n"
     ]
    }
   ],
   "source": [
    "peak1, peak2, peak3=time[indices+500]\n",
    "peaks_list = [peak1, peak2, peak3]\n",
    "\n",
    "peak_diff=[abs(peaks_list[0]-peaks_list[1]), abs(peaks_list[1]-peaks_list[2]), abs(peaks_list[0]-peaks_list[2])]\n",
    "\n",
    "ratio_peaks = [peak_diff[0]/peak_diff[1],peak_diff[1]/peak_diff[2],peak_diff[0]/peak_diff[2]]\n",
    "print(peaks_list)\n",
    "print(peak_diff)\n",
    "print(ratio_peaks)\n"
   ]
  },
  {
   "cell_type": "code",
   "execution_count": 9,
   "metadata": {},
   "outputs": [
    {
     "data": {
      "text/plain": [
       "[193.741,\n",
       " -72.911,\n",
       " -229.852,\n",
       " 60.415000000000006,\n",
       " -151.38150000000002,\n",
       " -18.105499999999992]"
      ]
     },
     "execution_count": 9,
     "metadata": {},
     "output_type": "execute_result"
    }
   ],
   "source": [
    "other_peaks = [193.741, -72.911, -229.852, (193.741+ -72.911)/2,(-72.911+ -229.852)/2,(193.741+ -229.952)/2]\n",
    "other_peaks\n"
   ]
  },
  {
   "cell_type": "code",
   "execution_count": 10,
   "metadata": {},
   "outputs": [
    {
     "data": {
      "text/plain": [
       "[-229.852,\n",
       " -151.38150000000002,\n",
       " -72.911,\n",
       " -18.105499999999992,\n",
       " 60.415000000000006,\n",
       " 193.741]"
      ]
     },
     "execution_count": 10,
     "metadata": {},
     "output_type": "execute_result"
    }
   ],
   "source": [
    "other_peaks.sort()\n",
    "other_peaks"
   ]
  },
  {
   "cell_type": "code",
   "execution_count": 11,
   "metadata": {},
   "outputs": [
    {
     "data": {
      "text/plain": [
       "[[1.735537190082644, 0.7880952380952384, 1.3677685950413219],\n",
       " [1.0218529298176724, 0.9920747776457316, 1.013754518135507],\n",
       " [0.6430156828577437, 1.1500846675318803, 0.739522477837233],\n",
       " [0.39460907670285217, 1.2842015746696658, 0.5067575976807457],\n",
       " [4.96988335383785, 0.40795907910098705, 2.027509036271014],\n",
       " [2.0429394277842303, 0.7239788588732838, 1.4790449556744665],\n",
       " [1.0214697138921152, 0.9922126731488551, 1.0135151953614916],\n",
       " [4.680229056358972, 0.4263773156635591, 1.9955435017409309],\n",
       " [1.7347179472865246, 0.7882812882042094, 1.3674456981579837],\n",
       " [3.7784766178668745, 0.49610633657442754, 1.874526192722068],\n",
       " [2.484941676918925, 0.6481580115163807, 1.6106348560459511],\n",
       " [1.0214697138921152, 0.992212673148855, 1.0135151953614916],\n",
       " [0.5107348569460576, 1.217812060520954, 0.621979068517353],\n",
       " [2.945797015371203, 0.5843499032595642, 1.7213762009544753],\n",
       " [1.091854028957073, 0.9675127982507244, 1.0563827468375853],\n",
       " [2.7570069039747596, 0.608906030260477, 1.678758129299999],\n",
       " [1.2113649743834336, 0.9282755372974084, 1.1244804724590431],\n",
       " [0.4489901106276214, 1.2522330067439422, 0.5622402362295216],\n",
       " [1.7355371900826444, 0.7880952380952382, 1.3677685950413223],\n",
       " [1.0221205761358194, 0.9919784911649306, 1.0139216269038398]]"
      ]
     },
     "execution_count": 11,
     "metadata": {},
     "output_type": "execute_result"
    }
   ],
   "source": [
    "combination = list(combinations(other_peaks, 3))\n",
    "accuracy = []\n",
    "for alist in combination:\n",
    "    sum_list=[]\n",
    "    ratio_counter=0\n",
    "    diff_list=[abs(alist[0]-alist[1]), abs(alist[1]-alist[2]), abs(alist[0]-alist[2])]\n",
    "    ratio_list=[diff_list[0]/diff_list[1], diff_list[1]/diff_list[2], diff_list[0]/diff_list[2]]\n",
    "    for ratio in ratio_list:\n",
    "        ratio_of_ratio=ratio/ratio_peaks[ratio_counter]\n",
    "        sum_list.append(ratio_of_ratio)\n",
    "        ratio_counter+=1\n",
    "    accuracy.append(sum_list)\n",
    "\n",
    "accuracy"
   ]
  },
  {
   "cell_type": "code",
   "execution_count": 12,
   "metadata": {},
   "outputs": [
    {
     "data": {
      "text/plain": [
       "[(-229.852, -151.38150000000002, -18.105499999999992),\n",
       " (-229.852, -72.911, 193.741),\n",
       " (-151.38150000000002, -72.911, 60.415000000000006),\n",
       " (-18.105499999999992, 60.415000000000006, 193.741)]"
      ]
     },
     "execution_count": 12,
     "metadata": {},
     "output_type": "execute_result"
    }
   ],
   "source": [
    "counter = 0\n",
    "possibilities = []\n",
    "for f in accuracy:\n",
    "    if 0.99<f[0]<1.05 and 0.99<f[1]<1.05 and 0.99<f[2]<1.05:\n",
    "        possibilities.append(combination[counter])\n",
    "    counter+=1\n",
    "\n",
    "possibilities"
   ]
  },
  {
   "cell_type": "markdown",
   "metadata": {},
   "source": [
    "Looking at the last list we see that, from left to right, our peaks line up with CO13, CO23 and F3.\n",
    "\n",
    "However, there are also other peaks that it lines up with, so we should use other arguments to determine the peaks."
   ]
  }
 ],
 "metadata": {
  "kernelspec": {
   "display_name": "base",
   "language": "python",
   "name": "python3"
  },
  "language_info": {
   "codemirror_mode": {
    "name": "ipython",
    "version": 3
   },
   "file_extension": ".py",
   "mimetype": "text/x-python",
   "name": "python",
   "nbconvert_exporter": "python",
   "pygments_lexer": "ipython3",
   "version": "3.9.12"
  }
 },
 "nbformat": 4,
 "nbformat_minor": 2
}
